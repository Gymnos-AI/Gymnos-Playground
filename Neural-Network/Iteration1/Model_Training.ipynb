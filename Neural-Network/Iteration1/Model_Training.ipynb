{
  "nbformat": 4,
  "nbformat_minor": 0,
  "metadata": {
    "colab": {
      "name": "Model_Training.ipynb",
      "version": "0.3.2",
      "provenance": [],
      "collapsed_sections": [],
      "toc_visible": true,
      "include_colab_link": true
    },
    "kernelspec": {
      "name": "python3",
      "display_name": "Python 3"
    },
    "accelerator": "TPU"
  },
  "cells": [
    {
      "cell_type": "markdown",
      "metadata": {
        "id": "view-in-github",
        "colab_type": "text"
      },
      "source": [
        "<a href=\"https://colab.research.google.com/github/JamesPeralta/Gymnos/blob/master/Neural-Network/Iteration1/Model_Training.ipynb\" target=\"_parent\"><img src=\"https://colab.research.google.com/assets/colab-badge.svg\" alt=\"Open In Colab\"/></a>"
      ]
    },
    {
      "metadata": {
        "id": "fCKo8-OmyF6E",
        "colab_type": "text"
      },
      "cell_type": "markdown",
      "source": [
        "# Gymnos Iteration 1\n",
        "## Gymnos iteration 1 will use a single stream 2D convolutional neural network. For each video we will be passing in only one frame and the AIs prediction will be based on the single frame. Therefore the first iteration only analyzes spatial patterns.\n"
      ]
    },
    {
      "metadata": {
        "id": "1R_UnsdvAjPj",
        "colab_type": "text"
      },
      "cell_type": "markdown",
      "source": [
        "---\n",
        "## Uploading all custom modules into the Instance"
      ]
    },
    {
      "metadata": {
        "id": "0GAeSwCSyL8D",
        "colab_type": "code",
        "outputId": "e241ff58-d091-41e6-a102-276b5407da3b",
        "colab": {
          "base_uri": "https://localhost:8080/",
          "height": 170
        }
      },
      "cell_type": "code",
      "source": [
        "!pip install -U -q PyDrive\n",
        "from pydrive.auth import GoogleAuth\n",
        "from pydrive.drive import GoogleDrive\n",
        "from google.colab import auth\n",
        "from oauth2client.client import GoogleCredentials\n",
        "\n",
        "auth.authenticate_user()\n",
        "gauth = GoogleAuth()\n",
        "gauth.credentials = GoogleCredentials.get_application_default()\n",
        "drive = GoogleDrive(gauth)"
      ],
      "execution_count": 1,
      "outputs": [
        {
          "output_type": "stream",
          "text": [
            "\u001b[?25l\r\u001b[K    1% |▎                               | 10kB 16.6MB/s eta 0:00:01\r\u001b[K    2% |▋                               | 20kB 2.3MB/s eta 0:00:01\r\u001b[K    3% |█                               | 30kB 3.3MB/s eta 0:00:01\r\u001b[K    4% |█▎                              | 40kB 2.1MB/s eta 0:00:01\r\u001b[K    5% |█▋                              | 51kB 2.6MB/s eta 0:00:01\r\u001b[K    6% |██                              | 61kB 3.1MB/s eta 0:00:01\r\u001b[K    7% |██▎                             | 71kB 3.5MB/s eta 0:00:01\r\u001b[K    8% |██▋                             | 81kB 4.0MB/s eta 0:00:01\r\u001b[K    9% |███                             | 92kB 4.5MB/s eta 0:00:01\r\u001b[K    10% |███▎                            | 102kB 3.5MB/s eta 0:00:01\r\u001b[K    11% |███▋                            | 112kB 3.5MB/s eta 0:00:01\r\u001b[K    12% |████                            | 122kB 4.8MB/s eta 0:00:01\r\u001b[K    13% |████▎                           | 133kB 4.8MB/s eta 0:00:01\r\u001b[K    14% |████▋                           | 143kB 8.8MB/s eta 0:00:01\r\u001b[K    15% |█████                           | 153kB 8.9MB/s eta 0:00:01\r\u001b[K    16% |█████▎                          | 163kB 8.9MB/s eta 0:00:01\r\u001b[K    17% |█████▋                          | 174kB 8.9MB/s eta 0:00:01\r\u001b[K    18% |██████                          | 184kB 9.0MB/s eta 0:00:01\r\u001b[K    19% |██████▎                         | 194kB 9.0MB/s eta 0:00:01\r\u001b[K    20% |██████▋                         | 204kB 32.5MB/s eta 0:00:01\r\u001b[K    21% |███████                         | 215kB 10.4MB/s eta 0:00:01\r\u001b[K    22% |███████▎                        | 225kB 10.3MB/s eta 0:00:01\r\u001b[K    23% |███████▋                        | 235kB 10.5MB/s eta 0:00:01\r\u001b[K    24% |████████                        | 245kB 10.5MB/s eta 0:00:01\r\u001b[K    25% |████████▎                       | 256kB 10.6MB/s eta 0:00:01\r\u001b[K    26% |████████▋                       | 266kB 10.2MB/s eta 0:00:01\r\u001b[K    27% |█████████                       | 276kB 10.4MB/s eta 0:00:01\r\u001b[K    29% |█████████▎                      | 286kB 10.5MB/s eta 0:00:01\r\u001b[K    30% |█████████▋                      | 296kB 10.5MB/s eta 0:00:01\r\u001b[K    31% |██████████                      | 307kB 11.0MB/s eta 0:00:01\r\u001b[K    32% |██████████▎                     | 317kB 44.6MB/s eta 0:00:01\r\u001b[K    33% |██████████▋                     | 327kB 48.3MB/s eta 0:00:01\r\u001b[K    34% |███████████                     | 337kB 52.0MB/s eta 0:00:01\r\u001b[K    35% |███████████▎                    | 348kB 45.7MB/s eta 0:00:01\r\u001b[K    36% |███████████▋                    | 358kB 45.4MB/s eta 0:00:01\r\u001b[K    37% |████████████                    | 368kB 56.2MB/s eta 0:00:01\r\u001b[K    38% |████████████▎                   | 378kB 56.7MB/s eta 0:00:01\r\u001b[K    39% |████████████▋                   | 389kB 57.0MB/s eta 0:00:01\r\u001b[K    40% |█████████████                   | 399kB 12.2MB/s eta 0:00:01\r\u001b[K    41% |█████████████▎                  | 409kB 11.6MB/s eta 0:00:01\r\u001b[K    42% |█████████████▋                  | 419kB 11.5MB/s eta 0:00:01\r\u001b[K    43% |██████████████                  | 430kB 11.5MB/s eta 0:00:01\r\u001b[K    44% |██████████████▎                 | 440kB 11.5MB/s eta 0:00:01\r\u001b[K    45% |██████████████▋                 | 450kB 11.5MB/s eta 0:00:01\r\u001b[K    46% |███████████████                 | 460kB 11.4MB/s eta 0:00:01\r\u001b[K    47% |███████████████▎                | 471kB 11.4MB/s eta 0:00:01\r\u001b[K    48% |███████████████▋                | 481kB 11.5MB/s eta 0:00:01\r\u001b[K    49% |████████████████                | 491kB 11.4MB/s eta 0:00:01\r\u001b[K    50% |████████████████▎               | 501kB 43.4MB/s eta 0:00:01\r\u001b[K    51% |████████████████▋               | 512kB 45.3MB/s eta 0:00:01\r\u001b[K    52% |█████████████████               | 522kB 47.2MB/s eta 0:00:01\r\u001b[K    53% |█████████████████▎              | 532kB 47.8MB/s eta 0:00:01\r\u001b[K    54% |█████████████████▋              | 542kB 11.0MB/s eta 0:00:01\r\u001b[K    55% |██████████████████              | 552kB 11.1MB/s eta 0:00:01\r\u001b[K    57% |██████████████████▎             | 563kB 11.1MB/s eta 0:00:01\r\u001b[K    58% |██████████████████▋             | 573kB 11.1MB/s eta 0:00:01\r\u001b[K    59% |███████████████████             | 583kB 11.0MB/s eta 0:00:01\r\u001b[K    60% |███████████████████▎            | 593kB 10.4MB/s eta 0:00:01\r\u001b[K    61% |███████████████████▋            | 604kB 10.3MB/s eta 0:00:01\r\u001b[K    62% |████████████████████            | 614kB 10.7MB/s eta 0:00:01\r\u001b[K    63% |████████████████████▎           | 624kB 10.6MB/s eta 0:00:01\r\u001b[K    64% |████████████████████▋           | 634kB 10.6MB/s eta 0:00:01\r\u001b[K    65% |█████████████████████           | 645kB 40.8MB/s eta 0:00:01\r\u001b[K    66% |█████████████████████▎          | 655kB 44.9MB/s eta 0:00:01\r\u001b[K    67% |█████████████████████▋          | 665kB 34.9MB/s eta 0:00:01\r\u001b[K    68% |██████████████████████          | 675kB 34.9MB/s eta 0:00:01\r\u001b[K    69% |██████████████████████▎         | 686kB 33.6MB/s eta 0:00:01\r\u001b[K    70% |██████████████████████▋         | 696kB 41.5MB/s eta 0:00:01\r\u001b[K    71% |███████████████████████         | 706kB 41.8MB/s eta 0:00:01\r\u001b[K    72% |███████████████████████▎        | 716kB 42.9MB/s eta 0:00:01\r\u001b[K    73% |███████████████████████▋        | 727kB 44.5MB/s eta 0:00:01\r\u001b[K    74% |████████████████████████        | 737kB 45.1MB/s eta 0:00:01\r\u001b[K    75% |████████████████████████▎       | 747kB 45.7MB/s eta 0:00:01\r\u001b[K    76% |████████████████████████▋       | 757kB 46.1MB/s eta 0:00:01\r\u001b[K    77% |████████████████████████▉       | 768kB 68.6MB/s eta 0:00:01\r\u001b[K    78% |█████████████████████████▏      | 778kB 72.3MB/s eta 0:00:01\r\u001b[K    79% |█████████████████████████▌      | 788kB 78.8MB/s eta 0:00:01\r\u001b[K    80% |█████████████████████████▉      | 798kB 80.9MB/s eta 0:00:01\r\u001b[K    81% |██████████████████████████▏     | 808kB 83.8MB/s eta 0:00:01\r\u001b[K    82% |██████████████████████████▌     | 819kB 83.1MB/s eta 0:00:01\r\u001b[K    83% |██████████████████████████▉     | 829kB 83.6MB/s eta 0:00:01\r\u001b[K    85% |███████████████████████████▏    | 839kB 77.9MB/s eta 0:00:01\r\u001b[K    86% |███████████████████████████▌    | 849kB 75.1MB/s eta 0:00:01\r\u001b[K    87% |███████████████████████████▉    | 860kB 48.3MB/s eta 0:00:01\r\u001b[K    88% |████████████████████████████▏   | 870kB 45.3MB/s eta 0:00:01\r\u001b[K    89% |████████████████████████████▌   | 880kB 44.8MB/s eta 0:00:01\r\u001b[K    90% |████████████████████████████▉   | 890kB 45.0MB/s eta 0:00:01\r\u001b[K    91% |█████████████████████████████▏  | 901kB 44.5MB/s eta 0:00:01\r\u001b[K    92% |█████████████████████████████▌  | 911kB 44.9MB/s eta 0:00:01\r\u001b[K    93% |█████████████████████████████▉  | 921kB 44.9MB/s eta 0:00:01\r\u001b[K    94% |██████████████████████████████▏ | 931kB 45.0MB/s eta 0:00:01\r\u001b[K    95% |██████████████████████████████▌ | 942kB 47.0MB/s eta 0:00:01\r\u001b[K    96% |██████████████████████████████▉ | 952kB 26.0MB/s eta 0:00:01\r\u001b[K    97% |███████████████████████████████▏| 962kB 31.4MB/s eta 0:00:01\r\u001b[K    98% |███████████████████████████████▌| 972kB 32.2MB/s eta 0:00:01\r\u001b[K    99% |███████████████████████████████▉| 983kB 32.2MB/s eta 0:00:01\r\u001b[K    100% |████████████████████████████████| 993kB 8.2MB/s \n",
            "\u001b[?25h  Building wheel for PyDrive (setup.py) ... \u001b[?25ldone\n",
            "\u001b[?25h\n",
            "WARNING: The TensorFlow contrib module will not be included in TensorFlow 2.0.\n",
            "For more information, please see:\n",
            "  * https://github.com/tensorflow/community/blob/master/rfcs/20180907-contrib-sunset.md\n",
            "  * https://github.com/tensorflow/addons\n",
            "If you depend on functionality not listed there, please file an issue.\n",
            "\n"
          ],
          "name": "stdout"
        }
      ]
    },
    {
      "metadata": {
        "id": "IyyuTVn-9E3j",
        "colab_type": "code",
        "colab": {}
      },
      "cell_type": "code",
      "source": [
        "# Upload the DataGenerator Module\n",
        "data_generator_id = '1ICelbrinwuSz6E9I4UbriLy3icM9xNAH'\n",
        "gymnos_DataGenerator = drive.CreateFile({'id': data_generator_id})\n",
        "gymnos_DataGenerator.GetContentFile('GymnoDataGenerator_i1.py')\n",
        "\n",
        "# Upload the HelperFunctions Module\n",
        "helper_functions_id = '1PDgBPl0Z8a8bqbxdvODSdlbmjMexkV8f'\n",
        "helper_functions = drive.CreateFile({'id': helper_functions_id})\n",
        "helper_functions.GetContentFile('HelperFunctions_i1.py')"
      ],
      "execution_count": 0,
      "outputs": []
    },
    {
      "metadata": {
        "id": "tt4dWZuXDqgy",
        "colab_type": "code",
        "outputId": "b66fd25b-f305-4b10-a27a-d25884293448",
        "colab": {
          "base_uri": "https://localhost:8080/",
          "height": 122
        }
      },
      "cell_type": "code",
      "source": [
        "from google.colab import drive\n",
        "import os\n",
        "import csv\n",
        "\n",
        "drive.mount('/content/drive')"
      ],
      "execution_count": 5,
      "outputs": [
        {
          "output_type": "stream",
          "text": [
            "Go to this URL in a browser: https://accounts.google.com/o/oauth2/auth?client_id=947318989803-6bn6qk8qdgf4n4g3pfee6491hc0brc4i.apps.googleusercontent.com&redirect_uri=urn%3Aietf%3Awg%3Aoauth%3A2.0%3Aoob&scope=email%20https%3A%2F%2Fwww.googleapis.com%2Fauth%2Fdocs.test%20https%3A%2F%2Fwww.googleapis.com%2Fauth%2Fdrive%20https%3A%2F%2Fwww.googleapis.com%2Fauth%2Fdrive.photos.readonly%20https%3A%2F%2Fwww.googleapis.com%2Fauth%2Fpeopleapi.readonly&response_type=code\n",
            "\n",
            "Enter your authorization code:\n",
            "··········\n",
            "Mounted at /content/drive\n"
          ],
          "name": "stdout"
        }
      ]
    },
    {
      "metadata": {
        "id": "fLN0jyG0_N4p",
        "colab_type": "text"
      },
      "cell_type": "markdown",
      "source": [
        "---\n",
        "## Imports"
      ]
    },
    {
      "metadata": {
        "id": "zUcsDeTG_txu",
        "colab_type": "code",
        "outputId": "f936e83a-03c1-4e88-e1bd-6c35dd1f4c27",
        "colab": {
          "base_uri": "https://localhost:8080/",
          "height": 34
        }
      },
      "cell_type": "code",
      "source": [
        "import GymnoDataGenerator_i1 as gen\n",
        "import HelperFunctions_i1 as helper"
      ],
      "execution_count": 3,
      "outputs": [
        {
          "output_type": "stream",
          "text": [
            "Using TensorFlow backend.\n"
          ],
          "name": "stderr"
        }
      ]
    },
    {
      "metadata": {
        "id": "-CLbLhZteL5l",
        "colab_type": "text"
      },
      "cell_type": "markdown",
      "source": [
        "---\n",
        "## Convert videos into Frames"
      ]
    },
    {
      "metadata": {
        "id": "icxfsBRegxMc",
        "colab_type": "code",
        "colab": {}
      },
      "cell_type": "code",
      "source": [
        "destination = \"/content/drive/My Drive/GYMNOS/Video Dataset/Frames/\""
      ],
      "execution_count": 0,
      "outputs": []
    },
    {
      "metadata": {
        "id": "-q-P8IPQgFVr",
        "colab_type": "code",
        "colab": {}
      },
      "cell_type": "code",
      "source": [
        "squat_videos = \"/content/drive/My Drive/GYMNOS/Video Dataset/Squats/FaceView/\"\n",
        "helper.extract_frames_from_directory(0, squat_videos, destination)\n"
      ],
      "execution_count": 0,
      "outputs": []
    },
    {
      "metadata": {
        "id": "VJ-aWfzsj7MY",
        "colab_type": "code",
        "colab": {}
      },
      "cell_type": "code",
      "source": [
        "overhead_videos = \"/content/drive/My Drive/GYMNOS/Video Dataset/Overhead Press/FaceView/\"\n",
        "helper.extract_frames_from_directory(2610, overhead_videos, destination)"
      ],
      "execution_count": 0,
      "outputs": []
    },
    {
      "metadata": {
        "id": "IyczqNq2eMRU",
        "colab_type": "text"
      },
      "cell_type": "markdown",
      "source": [
        "---\n",
        "## Create a labels and partitions CSVs\n"
      ]
    },
    {
      "metadata": {
        "id": "nGNit8P2-rT4",
        "colab_type": "code",
        "colab": {}
      },
      "cell_type": "code",
      "source": [
        "csv_location = \"/content/drive/My Drive/GYMNOS/Video Dataset/\""
      ],
      "execution_count": 0,
      "outputs": []
    },
    {
      "metadata": {
        "id": "2DM6NeKq-tl_",
        "colab_type": "code",
        "colab": {}
      },
      "cell_type": "code",
      "source": [
        "helper.generate_labels_csv(csv_location, 2610, 4338)"
      ],
      "execution_count": 0,
      "outputs": []
    },
    {
      "metadata": {
        "id": "sQidEd6N-6rn",
        "colab_type": "code",
        "colab": {
          "base_uri": "https://localhost:8080/",
          "height": 68
        },
        "outputId": "d25da8ca-43b3-4e02-e79a-73bac657274e"
      },
      "cell_type": "code",
      "source": [
        "labels_location = \"/content/drive/My Drive/GYMNOS/Video Dataset/labels.csv\"\n",
        "helper.generate_partitions_csv(csv_location, labels_location)"
      ],
      "execution_count": 11,
      "outputs": [
        {
          "output_type": "stream",
          "text": [
            "3036\n",
            "867\n",
            "435\n"
          ],
          "name": "stdout"
        }
      ]
    },
    {
      "metadata": {
        "id": "SPULJZ1oDehz",
        "colab_type": "text"
      },
      "cell_type": "markdown",
      "source": [
        "---\n",
        "## Read in the labels and partitions CSVs\n"
      ]
    },
    {
      "metadata": {
        "id": "ha4gKbhpDlo6",
        "colab_type": "code",
        "colab": {
          "base_uri": "https://localhost:8080/",
          "height": 333
        },
        "outputId": "1288521d-8c88-4616-a0be-55e53d93ebf2"
      },
      "cell_type": "code",
      "source": [
        "partition_location = \"/content/drive/My Drive/GYMNOS/Video Dataset/partitions.csv\"\n",
        "\n",
        "partition = helper.read_partition_csv(partition_location)\n",
        "labels = helper.read_labels_csv(labels_location)"
      ],
      "execution_count": 12,
      "outputs": [
        {
          "output_type": "error",
          "ename": "FileNotFoundError",
          "evalue": "ignored",
          "traceback": [
            "\u001b[0;31m---------------------------------------------------------------------------\u001b[0m",
            "\u001b[0;31mFileNotFoundError\u001b[0m                         Traceback (most recent call last)",
            "\u001b[0;32m<ipython-input-12-bd5973359ced>\u001b[0m in \u001b[0;36m<module>\u001b[0;34m()\u001b[0m\n\u001b[1;32m      1\u001b[0m \u001b[0mpartition_location\u001b[0m \u001b[0;34m=\u001b[0m \u001b[0;34m\"/content/drive/My Drive/GYMNOS/Video Dataset/partitions.csv\"\u001b[0m\u001b[0;34m\u001b[0m\u001b[0;34m\u001b[0m\u001b[0m\n\u001b[1;32m      2\u001b[0m \u001b[0;34m\u001b[0m\u001b[0m\n\u001b[0;32m----> 3\u001b[0;31m \u001b[0mpartition\u001b[0m \u001b[0;34m=\u001b[0m \u001b[0mhelper\u001b[0m\u001b[0;34m.\u001b[0m\u001b[0mread_partition_csv\u001b[0m\u001b[0;34m(\u001b[0m\u001b[0mpartition_location\u001b[0m\u001b[0;34m)\u001b[0m\u001b[0;34m\u001b[0m\u001b[0;34m\u001b[0m\u001b[0m\n\u001b[0m\u001b[1;32m      4\u001b[0m \u001b[0mlabels\u001b[0m \u001b[0;34m=\u001b[0m \u001b[0mhelper\u001b[0m\u001b[0;34m.\u001b[0m\u001b[0mread_labels_csv\u001b[0m\u001b[0;34m(\u001b[0m\u001b[0mlabels_location\u001b[0m\u001b[0;34m)\u001b[0m\u001b[0;34m\u001b[0m\u001b[0;34m\u001b[0m\u001b[0m\n",
            "\u001b[0;32m/content/HelperFunctions_i1.py\u001b[0m in \u001b[0;36mread_partition_csv\u001b[0;34m(source)\u001b[0m\n\u001b[1;32m    185\u001b[0m     \u001b[0mpartition\u001b[0m \u001b[0;34m=\u001b[0m \u001b[0;34m{\u001b[0m\u001b[0;34m}\u001b[0m\u001b[0;34m\u001b[0m\u001b[0;34m\u001b[0m\u001b[0m\n\u001b[1;32m    186\u001b[0m     \u001b[0;31m# Load in the Partitions from the CSV\u001b[0m\u001b[0;34m\u001b[0m\u001b[0;34m\u001b[0m\u001b[0;34m\u001b[0m\u001b[0m\n\u001b[0;32m--> 187\u001b[0;31m     \u001b[0;32mwith\u001b[0m \u001b[0mopen\u001b[0m\u001b[0;34m(\u001b[0m\u001b[0msource\u001b[0m\u001b[0;34m,\u001b[0m \u001b[0mmode\u001b[0m\u001b[0;34m=\u001b[0m\u001b[0;34m'r'\u001b[0m\u001b[0;34m)\u001b[0m \u001b[0;32mas\u001b[0m \u001b[0mpartitions_csv\u001b[0m\u001b[0;34m:\u001b[0m\u001b[0;34m\u001b[0m\u001b[0;34m\u001b[0m\u001b[0m\n\u001b[0m\u001b[1;32m    188\u001b[0m         \u001b[0mcsv_reader\u001b[0m \u001b[0;34m=\u001b[0m \u001b[0mcsv\u001b[0m\u001b[0;34m.\u001b[0m\u001b[0mDictReader\u001b[0m\u001b[0;34m(\u001b[0m\u001b[0mpartitions_csv\u001b[0m\u001b[0;34m)\u001b[0m\u001b[0;34m\u001b[0m\u001b[0;34m\u001b[0m\u001b[0m\n\u001b[1;32m    189\u001b[0m         \u001b[0;32mfor\u001b[0m \u001b[0mrow\u001b[0m \u001b[0;32min\u001b[0m \u001b[0mcsv_reader\u001b[0m\u001b[0;34m:\u001b[0m\u001b[0;34m\u001b[0m\u001b[0;34m\u001b[0m\u001b[0m\n",
            "\u001b[0;31mFileNotFoundError\u001b[0m: [Errno 2] No such file or directory: '/content/drive/My Drive/GYMNOS/Video Dataset/partitions.csv'"
          ]
        }
      ]
    },
    {
      "metadata": {
        "id": "pne43jc1EsKt",
        "colab_type": "code",
        "outputId": "5e81fe6c-729a-4f4d-9d5d-95553085fd36",
        "colab": {
          "base_uri": "https://localhost:8080/",
          "height": 197
        }
      },
      "cell_type": "code",
      "source": [
        "print(len(partition[\"train\"]))\n",
        "print(len(partition[\"validation\"]))\n",
        "print(len(partition[\"test\"]))"
      ],
      "execution_count": 8,
      "outputs": [
        {
          "output_type": "error",
          "ename": "NameError",
          "evalue": "ignored",
          "traceback": [
            "\u001b[0;31m---------------------------------------------------------------------------\u001b[0m",
            "\u001b[0;31mNameError\u001b[0m                                 Traceback (most recent call last)",
            "\u001b[0;32m<ipython-input-8-19414496c21d>\u001b[0m in \u001b[0;36m<module>\u001b[0;34m()\u001b[0m\n\u001b[0;32m----> 1\u001b[0;31m \u001b[0mprint\u001b[0m\u001b[0;34m(\u001b[0m\u001b[0mlen\u001b[0m\u001b[0;34m(\u001b[0m\u001b[0mpartition\u001b[0m\u001b[0;34m[\u001b[0m\u001b[0;34m\"train\"\u001b[0m\u001b[0;34m]\u001b[0m\u001b[0;34m)\u001b[0m\u001b[0;34m)\u001b[0m\u001b[0;34m\u001b[0m\u001b[0;34m\u001b[0m\u001b[0m\n\u001b[0m\u001b[1;32m      2\u001b[0m \u001b[0mprint\u001b[0m\u001b[0;34m(\u001b[0m\u001b[0mlen\u001b[0m\u001b[0;34m(\u001b[0m\u001b[0mpartition\u001b[0m\u001b[0;34m[\u001b[0m\u001b[0;34m\"validation\"\u001b[0m\u001b[0;34m]\u001b[0m\u001b[0;34m)\u001b[0m\u001b[0;34m)\u001b[0m\u001b[0;34m\u001b[0m\u001b[0;34m\u001b[0m\u001b[0m\n\u001b[1;32m      3\u001b[0m \u001b[0mprint\u001b[0m\u001b[0;34m(\u001b[0m\u001b[0mlen\u001b[0m\u001b[0;34m(\u001b[0m\u001b[0mpartition\u001b[0m\u001b[0;34m[\u001b[0m\u001b[0;34m\"test\"\u001b[0m\u001b[0;34m]\u001b[0m\u001b[0;34m)\u001b[0m\u001b[0;34m)\u001b[0m\u001b[0;34m\u001b[0m\u001b[0;34m\u001b[0m\u001b[0m\n",
            "\u001b[0;31mNameError\u001b[0m: name 'partition' is not defined"
          ]
        }
      ]
    },
    {
      "metadata": {
        "id": "yGX4BuSAEwAk",
        "colab_type": "text"
      },
      "cell_type": "markdown",
      "source": [
        "--- \n",
        "## Initialize the DataGenerator"
      ]
    },
    {
      "metadata": {
        "id": "1nE5zP_ggx9n",
        "colab_type": "code",
        "colab": {}
      },
      "cell_type": "code",
      "source": [
        "import matplotlib.pyplot as plt"
      ],
      "execution_count": 0,
      "outputs": []
    },
    {
      "metadata": {
        "id": "QAx1c29KBmEs",
        "colab_type": "code",
        "colab": {}
      },
      "cell_type": "code",
      "source": [
        "# Parameters\n",
        "params = {'data_location': \"/content/drive/My Drive/GYMNOS/Video Dataset/Test/\",\n",
        "          'dim': (224, 224, 3),\n",
        "          'batch_size': 64,\n",
        "          'n_classes': 2,\n",
        "          'shuffle': True}\n",
        "\n",
        "train_generator = gen.DataGenerator(partition[\"train\"], labels, **params)\n",
        "validation_generator = gen.DataGenerator(partition[\"validation\"], labels, **params)"
      ],
      "execution_count": 0,
      "outputs": []
    },
    {
      "metadata": {
        "id": "esf3WSXkbITc",
        "colab_type": "code",
        "colab": {}
      },
      "cell_type": "code",
      "source": [
        "images, labels = train_generator.__getitem__(1)"
      ],
      "execution_count": 0,
      "outputs": []
    },
    {
      "metadata": {
        "id": "zpE4qGzYbWNB",
        "colab_type": "code",
        "colab": {}
      },
      "cell_type": "code",
      "source": [
        "helper.show_images(images)"
      ],
      "execution_count": 0,
      "outputs": []
    },
    {
      "metadata": {
        "id": "S6UHlb6hTsT0",
        "colab_type": "text"
      },
      "cell_type": "markdown",
      "source": [
        "---\n",
        "## Add TPU Support"
      ]
    },
    {
      "metadata": {
        "id": "5MNiSzFnTxt1",
        "colab_type": "code",
        "colab": {}
      },
      "cell_type": "code",
      "source": [
        "import tensorflow as tf\n",
        "from tensorflow.keras.applications.vgg16 import VGG16\n",
        "from tensorflow.keras.models import Sequential\n",
        "from tensorflow.keras.layers import Dense\n",
        "from tensorflow.keras.layers import Dropout\n",
        "from tensorflow.keras.layers import Flatten\n",
        "from tensorflow.train import RMSPropOptimizer\n",
        "from tensorflow.keras.losses import binary_crossentropy"
      ],
      "execution_count": 0,
      "outputs": []
    },
    {
      "metadata": {
        "id": "kyIq65aeJSEN",
        "colab_type": "text"
      },
      "cell_type": "markdown",
      "source": [
        "---\n",
        "## Create the model\n"
      ]
    },
    {
      "metadata": {
        "id": "iggvm7CwZrS6",
        "colab_type": "code",
        "colab": {}
      },
      "cell_type": "code",
      "source": [
        "base_model = VGG16(weights='imagenet', include_top=False, input_shape=(224, 224, 3))    # include_top=False to remove the top layer\n",
        "# Freeze all of the layers from the Conv base because we are performing transfer learning\n",
        "for layer in base_model.layers:\n",
        "  layer.trainable = False\n",
        "  \n",
        "for layer in base_model.layers:\n",
        "  print(layer, layer.trainable)"
      ],
      "execution_count": 0,
      "outputs": []
    },
    {
      "metadata": {
        "id": "BtnXSXfDP_zq",
        "colab_type": "code",
        "colab": {}
      },
      "cell_type": "code",
      "source": [
        "model = Sequential()\n",
        "\n",
        "model.add(base_model)\n",
        "\n",
        "model.add(Flatten())\n",
        "model.add(Dense(1024, activation='relu'))\n",
        "model.add(Dropout(0.5))\n",
        "model.add(Dense(2, activation='sigmoid'))"
      ],
      "execution_count": 0,
      "outputs": []
    },
    {
      "metadata": {
        "id": "vml2CrEURfRT",
        "colab_type": "code",
        "colab": {}
      },
      "cell_type": "code",
      "source": [
        "model.summary()"
      ],
      "execution_count": 0,
      "outputs": []
    },
    {
      "metadata": {
        "id": "3tbIGEZHU46f",
        "colab_type": "code",
        "colab": {}
      },
      "cell_type": "code",
      "source": [
        "# Convert model to TPU version\n",
        "tpu_model = tf.contrib.tpu.keras_to_tpu_model(\n",
        "            model,\n",
        "            strategy=tf.contrib.tpu.TPUDistributionStrategy(\n",
        "            tf.contrib.cluster_resolver.TPUClusterResolver(tpu='grpc://' + os.environ['COLAB_TPU_ADDR'])\n",
        "    )\n",
        ")"
      ],
      "execution_count": 0,
      "outputs": []
    },
    {
      "metadata": {
        "id": "-O9bfcaoPqc6",
        "colab_type": "code",
        "colab": {}
      },
      "cell_type": "code",
      "source": [
        "tpu_model.compile(optimizer=RMSPropOptimizer(learning_rate=1e-3), \n",
        "              loss=binary_crossentropy,\n",
        "              metrics=['acc'])"
      ],
      "execution_count": 0,
      "outputs": []
    },
    {
      "metadata": {
        "id": "Etj8VMcbXAyP",
        "colab_type": "code",
        "colab": {}
      },
      "cell_type": "code",
      "source": [
        "train_generator.__len__()"
      ],
      "execution_count": 0,
      "outputs": []
    },
    {
      "metadata": {
        "id": "VvV1WAf5Qqx7",
        "colab_type": "code",
        "colab": {}
      },
      "cell_type": "code",
      "source": [
        "history = tpu_model.fit_generator(train_generator,\n",
        "                                  steps_per_epoch=train_generator.__len__(),\n",
        "                                  epochs=30,\n",
        "                                  validation_data=validation_generator,\n",
        "                                  validation_steps=validation_generator.__len__(),\n",
        "                                  verbose=1)"
      ],
      "execution_count": 0,
      "outputs": []
    }
  ]
}