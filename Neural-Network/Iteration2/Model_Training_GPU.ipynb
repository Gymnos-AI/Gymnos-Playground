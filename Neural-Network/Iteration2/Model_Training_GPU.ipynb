{
  "nbformat": 4,
  "nbformat_minor": 0,
  "metadata": {
    "colab": {
      "name": "Model_Training_TPU.ipynb",
      "version": "0.3.2",
      "provenance": [],
      "collapsed_sections": [],
      "toc_visible": true,
      "include_colab_link": true
    },
    "kernelspec": {
      "name": "python3",
      "display_name": "Python 3"
    },
    "accelerator": "GPU"
  },
  "cells": [
    {
      "cell_type": "markdown",
      "metadata": {
        "id": "view-in-github",
        "colab_type": "text"
      },
      "source": [
        "<a href=\"https://colab.research.google.com/github/JamesPeralta/Gymnos/blob/master/Neural-Network/Iteration2/Model_Training_GPU.ipynb\" target=\"_parent\"><img src=\"https://colab.research.google.com/assets/colab-badge.svg\" alt=\"Open In Colab\"/></a>"
      ]
    },
    {
      "metadata": {
        "id": "fCKo8-OmyF6E",
        "colab_type": "text"
      },
      "cell_type": "markdown",
      "source": [
        "# Gymnos Iteration 2\n",
        "## Gymnos iteration 2 will use a single stream 2D convolutional neural network. For each video we will be passing in only one frame and the AIs prediction will be based on the single frame.\n",
        "\n"
      ]
    },
    {
      "metadata": {
        "id": "QEsJzdLevAMW",
        "colab_type": "code",
        "colab": {}
      },
      "cell_type": "code",
      "source": [
        "# You can list all of the hardware device running on your instance\n",
        "from tensorflow.python.client import device_lib\n",
        "\n",
        "local_devices = device_lib.list_local_devices()\n",
        "\n",
        "for device in local_devices:\n",
        "  print(\"_______________________________________\\n\" + str(device))"
      ],
      "execution_count": 0,
      "outputs": []
    },
    {
      "metadata": {
        "id": "1R_UnsdvAjPj",
        "colab_type": "text"
      },
      "cell_type": "markdown",
      "source": [
        "---\n",
        "## Mount drive and download libraries from Github"
      ]
    },
    {
      "metadata": {
        "id": "tt4dWZuXDqgy",
        "colab_type": "code",
        "colab": {}
      },
      "cell_type": "code",
      "source": [
        "from google.colab import drive\n",
        "import os\n",
        "import csv\n",
        "import importlib\n",
        "\n",
        "drive.mount('/content/drive')"
      ],
      "execution_count": 0,
      "outputs": []
    },
    {
      "metadata": {
        "id": "KZyE20JCOjMr",
        "colab_type": "code",
        "colab": {}
      },
      "cell_type": "code",
      "source": [
        "# Retrieve the Data Generator Library\n",
        "!curl \"https://raw.githubusercontent.com/JamesPeralta/Gymnos/master/Neural-Network/Iteration2/GymnoDataGenerator_i2.py?token=AFLRMHLKFZZ6UI7HZLFFNBK42D3TC\" >> GymnosDataGenerator_i2.py\n",
        "# Retrieve the Helper Functions Library\n",
        "!curl \"https://raw.githubusercontent.com/JamesPeralta/Gymnos/master/Neural-Network/Iteration2/HelperFunctions_i2.py?token=AFLRMHP6ZJFKGGWHSWBL33C42D3WM\" >> HelperFunctions_i2.py"
      ],
      "execution_count": 0,
      "outputs": []
    },
    {
      "metadata": {
        "id": "fLN0jyG0_N4p",
        "colab_type": "text"
      },
      "cell_type": "markdown",
      "source": [
        "---\n",
        "## Imports"
      ]
    },
    {
      "metadata": {
        "id": "zUcsDeTG_txu",
        "colab_type": "code",
        "colab": {}
      },
      "cell_type": "code",
      "source": [
        "import GymnosDataGenerator_i2 as gen\n",
        "import HelperFunctions_i2 as helper"
      ],
      "execution_count": 0,
      "outputs": []
    },
    {
      "metadata": {
        "id": "6CwdObAZS8Nj",
        "colab_type": "code",
        "colab": {}
      },
      "cell_type": "code",
      "source": [
        "# Reimport if we make changes\n",
        "importlib.reload(gen)\n",
        "importlib.reload(helper)"
      ],
      "execution_count": 0,
      "outputs": []
    },
    {
      "metadata": {
        "id": "IyczqNq2eMRU",
        "colab_type": "text"
      },
      "cell_type": "markdown",
      "source": [
        "---\n",
        "## Create a labels and partitions CSV\n"
      ]
    },
    {
      "metadata": {
        "id": "69ND8i6xU-f0",
        "colab_type": "code",
        "colab": {}
      },
      "cell_type": "code",
      "source": [
        "csv_location = \"/content/drive/My Drive/GYMNOS/Video Dataset/\"\n",
        "labels_location = \"/content/drive/My Drive/GYMNOS/Video Dataset/labels.csv\"\n",
        "partitions_location = \"/content/drive/My Drive/GYMNOS/Video Dataset/partitions.csv\"\n",
        "squats_location = \"/content/drive/My Drive/GYMNOS/Video Dataset/Squats/FaceView/\"\n",
        "overhead_location = \"/content/drive/My Drive/GYMNOS/Video Dataset/Overhead Press/FaceView/\"\n",
        "squats_label = 0\n",
        "overhead_label = 1"
      ],
      "execution_count": 0,
      "outputs": []
    },
    {
      "metadata": {
        "id": "f7d6yDYCUtQU",
        "colab_type": "code",
        "colab": {}
      },
      "cell_type": "code",
      "source": [
        "helper.init_labels_csv(labels_location)"
      ],
      "execution_count": 0,
      "outputs": []
    },
    {
      "metadata": {
        "id": "CweFBv4AY7Ka",
        "colab_type": "code",
        "colab": {}
      },
      "cell_type": "code",
      "source": [
        "# Label the squat dataset\n",
        "helper.append_to_labels_csv(labels_location, squats_location, squats_label)\n",
        "\n",
        "# Label the overhead press dataset\n",
        "helper.append_to_labels_csv(labels_location, overhead_location, overhead_label)"
      ],
      "execution_count": 0,
      "outputs": []
    },
    {
      "metadata": {
        "id": "QWBiUNsIb56H",
        "colab_type": "code",
        "colab": {}
      },
      "cell_type": "code",
      "source": [
        "helper.generate_partitions_csv(partitions_location, labels_location)"
      ],
      "execution_count": 0,
      "outputs": []
    },
    {
      "metadata": {
        "id": "SPULJZ1oDehz",
        "colab_type": "text"
      },
      "cell_type": "markdown",
      "source": [
        "---\n",
        "## Read in the labels and partitions CSVs\n"
      ]
    },
    {
      "metadata": {
        "id": "ha4gKbhpDlo6",
        "colab_type": "code",
        "colab": {}
      },
      "cell_type": "code",
      "source": [
        "partition_location = \"/content/drive/My Drive/GYMNOS/Video Dataset/partitions.csv\"\n",
        "labels_location = \"/content/drive/My Drive/GYMNOS/Video Dataset/labels.csv\"\n",
        "\n",
        "partition = helper.read_partition_csv(partition_location)\n",
        "labels = helper.read_labels_csv(labels_location)"
      ],
      "execution_count": 0,
      "outputs": []
    },
    {
      "metadata": {
        "id": "pne43jc1EsKt",
        "colab_type": "code",
        "colab": {}
      },
      "cell_type": "code",
      "source": [
        "print(len(partition[\"train\"]))\n",
        "print(len(partition[\"validation\"]))\n",
        "print(len(partition[\"test\"]))"
      ],
      "execution_count": 0,
      "outputs": []
    },
    {
      "metadata": {
        "id": "j4qml54ejGxm",
        "colab_type": "code",
        "colab": {}
      },
      "cell_type": "code",
      "source": [
        "# Expand the train partition by 20\n",
        "new_train = []\n",
        "for i in range(20):\n",
        "  for train in partition[\"train\"]:\n",
        "    new_train.append(train)\n",
        "    \n",
        "partition[\"train\"] = new_train"
      ],
      "execution_count": 0,
      "outputs": []
    },
    {
      "metadata": {
        "id": "JDLfKMqIjv_T",
        "colab_type": "code",
        "colab": {}
      },
      "cell_type": "code",
      "source": [
        "print(partition[\"train\"])"
      ],
      "execution_count": 0,
      "outputs": []
    },
    {
      "metadata": {
        "id": "yGX4BuSAEwAk",
        "colab_type": "text"
      },
      "cell_type": "markdown",
      "source": [
        "--- \n",
        "## Initialize the DataGenerator"
      ]
    },
    {
      "metadata": {
        "id": "1nE5zP_ggx9n",
        "colab_type": "code",
        "colab": {}
      },
      "cell_type": "code",
      "source": [
        "import matplotlib.pyplot as plt"
      ],
      "execution_count": 0,
      "outputs": []
    },
    {
      "metadata": {
        "id": "QAx1c29KBmEs",
        "colab_type": "code",
        "colab": {}
      },
      "cell_type": "code",
      "source": [
        "train_params = {'frames_per_video': 15,\n",
        "                'frame_dim': (256, 256),\n",
        "                'batch_size': 1,\n",
        "                'n_classes': 2,\n",
        "                'shuffle': True}\n",
        "\n",
        "train_generator = gen.DataGenerator(partition[\"train\"], labels, **train_params)"
      ],
      "execution_count": 0,
      "outputs": []
    },
    {
      "metadata": {
        "id": "tPMP_uD4qTBC",
        "colab_type": "code",
        "colab": {}
      },
      "cell_type": "code",
      "source": [
        "test_vids = partition[\"train\"]\n",
        "test_vids[0]"
      ],
      "execution_count": 0,
      "outputs": []
    },
    {
      "metadata": {
        "id": "esf3WSXkbITc",
        "colab_type": "code",
        "colab": {}
      },
      "cell_type": "code",
      "source": [
        "vid_frames = train_generator.extract_frames_from_directory(test_vids[0])"
      ],
      "execution_count": 0,
      "outputs": []
    },
    {
      "metadata": {
        "id": "y5WxjPMP2PC_",
        "colab_type": "code",
        "colab": {}
      },
      "cell_type": "code",
      "source": [
        "helper.show_images(vid_frames)"
      ],
      "execution_count": 0,
      "outputs": []
    },
    {
      "metadata": {
        "id": "4lxj_ych9Sba",
        "colab_type": "code",
        "colab": {}
      },
      "cell_type": "code",
      "source": [
        "vid_frames.shape"
      ],
      "execution_count": 0,
      "outputs": []
    },
    {
      "metadata": {
        "id": "S6UHlb6hTsT0",
        "colab_type": "text"
      },
      "cell_type": "markdown",
      "source": [
        "---\n",
        "## Add TPU Support"
      ]
    },
    {
      "metadata": {
        "id": "5MNiSzFnTxt1",
        "colab_type": "code",
        "colab": {}
      },
      "cell_type": "code",
      "source": [
        "import tensorflow as tf\n",
        "from tensorflow.keras.applications.vgg16 import VGG16\n",
        "from tensorflow.keras.models import Sequential\n",
        "from tensorflow.keras.layers import Dense\n",
        "from tensorflow.keras.layers import Dropout\n",
        "from tensorflow.keras.layers import Flatten\n",
        "from tensorflow.train import RMSPropOptimizer\n",
        "from tensorflow.keras.losses import binary_crossentropy\n",
        "from tensorflow.keras.models import load_model"
      ],
      "execution_count": 0,
      "outputs": []
    },
    {
      "metadata": {
        "id": "kyIq65aeJSEN",
        "colab_type": "text"
      },
      "cell_type": "markdown",
      "source": [
        "---\n",
        "## Create the model\n"
      ]
    },
    {
      "metadata": {
        "id": "iggvm7CwZrS6",
        "colab_type": "code",
        "colab": {}
      },
      "cell_type": "code",
      "source": [
        "base_model = VGG16(weights='imagenet', include_top=False, input_shape=(224, 224, 3))    # include_top=False to remove the top layer\n",
        "\n",
        "# Freeze all of the layers from the Conv base because we are performing transfer learning on\n",
        "for layer in base_model.layers:\n",
        "  layer.trainable = False\n",
        "  \n",
        "for layer in base_model.layers:\n",
        "  print(layer, layer.trainable)"
      ],
      "execution_count": 0,
      "outputs": []
    },
    {
      "metadata": {
        "id": "BtnXSXfDP_zq",
        "colab_type": "code",
        "colab": {}
      },
      "cell_type": "code",
      "source": [
        "model = Sequential()\n",
        "\n",
        "model.add(base_model)\n",
        "\n",
        "model.add(Flatten())\n",
        "model.add(Dense(1024, activation='relu'))\n",
        "model.add(Dropout(0.5))\n",
        "model.add(Dense(2, activation='sigmoid'))"
      ],
      "execution_count": 0,
      "outputs": []
    },
    {
      "metadata": {
        "id": "vml2CrEURfRT",
        "colab_type": "code",
        "colab": {}
      },
      "cell_type": "code",
      "source": [
        "model.summary()"
      ],
      "execution_count": 0,
      "outputs": []
    },
    {
      "metadata": {
        "id": "3tbIGEZHU46f",
        "colab_type": "code",
        "colab": {}
      },
      "cell_type": "code",
      "source": [
        "# Convert model to TPU version\n",
        "tpu_model = tf.contrib.tpu.keras_to_tpu_model(\n",
        "            model,\n",
        "            strategy=tf.contrib.tpu.TPUDistributionStrategy(\n",
        "            tf.contrib.cluster_resolver.TPUClusterResolver(tpu='grpc://' + os.environ['COLAB_TPU_ADDR'])\n",
        "    )\n",
        ")"
      ],
      "execution_count": 0,
      "outputs": []
    },
    {
      "metadata": {
        "id": "-O9bfcaoPqc6",
        "colab_type": "code",
        "colab": {}
      },
      "cell_type": "code",
      "source": [
        "tpu_model.compile(optimizer=RMSPropOptimizer(learning_rate=1e-3), \n",
        "              loss=binary_crossentropy,\n",
        "              metrics=['acc'])"
      ],
      "execution_count": 0,
      "outputs": []
    },
    {
      "metadata": {
        "id": "Etj8VMcbXAyP",
        "colab_type": "code",
        "colab": {}
      },
      "cell_type": "code",
      "source": [
        "train_generator.__len__()"
      ],
      "execution_count": 0,
      "outputs": []
    },
    {
      "metadata": {
        "id": "VvV1WAf5Qqx7",
        "colab_type": "code",
        "colab": {}
      },
      "cell_type": "code",
      "source": [
        "history = tpu_model.fit_generator(train_generator,\n",
        "                                  steps_per_epoch=train_generator.__len__(),\n",
        "                                  epochs=30,\n",
        "                                  validation_data=validation_generator,\n",
        "                                  validation_steps=validation_generator.__len__(),\n",
        "                                  verbose=1)"
      ],
      "execution_count": 0,
      "outputs": []
    },
    {
      "metadata": {
        "id": "nw34eMB3fFQA",
        "colab_type": "code",
        "colab": {}
      },
      "cell_type": "code",
      "source": [
        "iteration_1_location = \"/content/drive/My Drive/GYMNOS/Software Development/Implementation Details/Gymnos_i1/gymnos_i1_GPU.h5\""
      ],
      "execution_count": 0,
      "outputs": []
    },
    {
      "metadata": {
        "id": "EfdwBYs4Oi_J",
        "colab_type": "code",
        "colab": {}
      },
      "cell_type": "code",
      "source": [
        "# Save all of your hard work\n",
        "model.save(iteration_1_location)"
      ],
      "execution_count": 0,
      "outputs": []
    },
    {
      "metadata": {
        "id": "DCBUwXbvOCsF",
        "colab_type": "text"
      },
      "cell_type": "markdown",
      "source": [
        "---\n",
        "## Evaluating the Model\n",
        "Now that the Model has it's weights initialized, let see how it performs on the test set."
      ]
    },
    {
      "metadata": {
        "id": "ZUVKwmp-e5Qg",
        "colab_type": "code",
        "colab": {}
      },
      "cell_type": "code",
      "source": [
        "trained_model = load_model(iteration_1_location)"
      ],
      "execution_count": 0,
      "outputs": []
    },
    {
      "metadata": {
        "id": "JGkfT_0oOQQL",
        "colab_type": "code",
        "colab": {}
      },
      "cell_type": "code",
      "source": [
        "# Parameters\n",
        "params = {'data_location': \"/content/drive/My Drive/GYMNOS/Video Dataset/Frames/\",\n",
        "          'dim': (224, 224, 3),\n",
        "          'batch_size': 64,\n",
        "          'n_classes': 2,\n",
        "          'shuffle': True}\n",
        "\n",
        "test_generator = gen.DataGenerator(partition[\"test\"], labels, **params)"
      ],
      "execution_count": 0,
      "outputs": []
    },
    {
      "metadata": {
        "id": "2AcR3n8WkkBT",
        "colab_type": "code",
        "colab": {}
      },
      "cell_type": "code",
      "source": [
        "images, pred_class = test_generator.__getitem__(0)"
      ],
      "execution_count": 0,
      "outputs": []
    },
    {
      "metadata": {
        "id": "i4bRBLrWk1qs",
        "colab_type": "code",
        "colab": {}
      },
      "cell_type": "code",
      "source": [
        "helper.show_images(images)"
      ],
      "execution_count": 0,
      "outputs": []
    },
    {
      "metadata": {
        "id": "LUKO4ewdk6xT",
        "colab_type": "code",
        "colab": {}
      },
      "cell_type": "code",
      "source": [
        "model_predictions = trained_model.predict_classes(images)"
      ],
      "execution_count": 0,
      "outputs": []
    },
    {
      "metadata": {
        "id": "MITuo7RLlMYy",
        "colab_type": "code",
        "colab": {}
      },
      "cell_type": "code",
      "source": [
        "for index, number in enumerate(model_predictions):\n",
        "  if number == 0:\n",
        "    print(\"Image(\"+ str(index + 1) + \") is a squat\")\n",
        "  else:\n",
        "    print(\"Image(\"+ str(index + 1) + \") is a overheadpress\")"
      ],
      "execution_count": 0,
      "outputs": []
    }
  ]
}