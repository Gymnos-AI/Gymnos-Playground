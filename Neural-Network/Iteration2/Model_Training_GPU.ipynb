{
 "cells": [
  {
   "cell_type": "markdown",
   "metadata": {
    "id": "view-in-github",
    "colab_type": "text"
   },
   "source": [
    "<a href=\"https://colab.research.google.com/github/JamesPeralta/Gymnos/blob/master/Neural-Network/Iteration2/Model_Training_GPU.ipynb\" target=\"_parent\"><img src=\"https://colab.research.google.com/assets/colab-badge.svg\" alt=\"Open In Colab\"/></a>"
   ]
  },
  {
   "cell_type": "markdown",
   "metadata": {
    "id": "fCKo8-OmyF6E",
    "colab_type": "text"
   },
   "source": [
    "# Gymnos Iteration 1\n",
    "## Gymnos iteration 1 will use a single stream 2D convolutional neural network. For each video we will be passing in only one frame and the AIs prediction will be based on the single frame. Therefore the first iteration only analyzes spatial patterns.\n"
   ]
  },
  {
   "cell_type": "code",
   "execution_count": 0,
   "metadata": {
    "id": "QEsJzdLevAMW",
    "colab_type": "code",
    "colab": {}
   },
   "outputs": [],
   "source": [
    "# You can list all of the hardware device running on your instance\n",
    "from tensorflow.python.client import device_lib\n",
    "\n",
    "local_devices = device_lib.list_local_devices()\n",
    "\n",
    "for device in local_devices:\n",
    "  print(\"_______________________________________\\n\" + str(device))"
   ]
  },
  {
   "cell_type": "markdown",
   "metadata": {
    "id": "1R_UnsdvAjPj",
    "colab_type": "text"
   },
   "source": [
    "---\n",
    "## Uploading all custom modules into the Instance"
   ]
  },
  {
   "cell_type": "code",
   "execution_count": 0,
   "metadata": {
    "id": "0GAeSwCSyL8D",
    "colab_type": "code",
    "colab": {}
   },
   "outputs": [],
   "source": [
    "!pip install -U -q PyDrive\n",
    "from pydrive.auth import GoogleAuth\n",
    "from pydrive.drive import GoogleDrive\n",
    "from google.colab import auth\n",
    "from oauth2client.client import GoogleCredentials\n",
    "\n",
    "auth.authenticate_user()\n",
    "gauth = GoogleAuth()\n",
    "gauth.credentials = GoogleCredentials.get_application_default()\n",
    "drive = GoogleDrive(gauth)"
   ]
  },
  {
   "cell_type": "code",
   "execution_count": 0,
   "metadata": {
    "id": "IyyuTVn-9E3j",
    "colab_type": "code",
    "colab": {}
   },
   "outputs": [],
   "source": [
    "# Upload the DataGenerator Module\n",
    "data_generator_id = '1ICelbrinwuSz6E9I4UbriLy3icM9xNAH'\n",
    "gymnos_DataGenerator = drive.CreateFile({'id': data_generator_id})\n",
    "gymnos_DataGenerator.GetContentFile('GymnoDataGenerator_i1.py')\n",
    "\n",
    "# Upload the HelperFunctions Module\n",
    "helper_functions_id = '1PDgBPl0Z8a8bqbxdvODSdlbmjMexkV8f'\n",
    "helper_functions = drive.CreateFile({'id': helper_functions_id})\n",
    "helper_functions.GetContentFile('HelperFunctions_i1.py')"
   ]
  },
  {
   "cell_type": "code",
   "execution_count": 0,
   "metadata": {
    "id": "tt4dWZuXDqgy",
    "colab_type": "code",
    "colab": {}
   },
   "outputs": [],
   "source": [
    "from google.colab import drive\n",
    "import os\n",
    "import csv\n",
    "\n",
    "drive.mount('/content/drive')"
   ]
  },
  {
   "cell_type": "markdown",
   "metadata": {
    "id": "fLN0jyG0_N4p",
    "colab_type": "text"
   },
   "source": [
    "---\n",
    "## Imports"
   ]
  },
  {
   "cell_type": "code",
   "execution_count": 0,
   "metadata": {
    "id": "zUcsDeTG_txu",
    "colab_type": "code",
    "colab": {}
   },
   "outputs": [],
   "source": [
    "import GymnoDataGenerator_i1 as gen\n",
    "import HelperFunctions_i1 as helper"
   ]
  },
  {
   "cell_type": "markdown",
   "metadata": {
    "id": "-CLbLhZteL5l",
    "colab_type": "text"
   },
   "source": [
    "---\n",
    "## Convert videos into Frames"
   ]
  },
  {
   "cell_type": "code",
   "execution_count": 0,
   "metadata": {
    "id": "icxfsBRegxMc",
    "colab_type": "code",
    "colab": {}
   },
   "outputs": [],
   "source": [
    "destination = \"/content/drive/My Drive/GYMNOS/Video Dataset/Frames/\""
   ]
  },
  {
   "cell_type": "code",
   "execution_count": 0,
   "metadata": {
    "id": "-q-P8IPQgFVr",
    "colab_type": "code",
    "colab": {}
   },
   "outputs": [],
   "source": [
    "squat_videos = \"/content/drive/My Drive/GYMNOS/Video Dataset/Squats/FaceView/\"\n",
    "helper.extract_frames_from_directory(0, squat_videos, destination)\n"
   ]
  },
  {
   "cell_type": "code",
   "execution_count": 0,
   "metadata": {
    "id": "VJ-aWfzsj7MY",
    "colab_type": "code",
    "colab": {}
   },
   "outputs": [],
   "source": [
    "overhead_videos = \"/content/drive/My Drive/GYMNOS/Video Dataset/Overhead Press/FaceView/\"\n",
    "helper.extract_frames_from_directory(2610, overhead_videos, destination)"
   ]
  },
  {
   "cell_type": "markdown",
   "metadata": {
    "id": "IyczqNq2eMRU",
    "colab_type": "text"
   },
   "source": [
    "---\n",
    "## Create a labels and partitions CSVs\n"
   ]
  },
  {
   "cell_type": "code",
   "execution_count": 0,
   "metadata": {
    "id": "nGNit8P2-rT4",
    "colab_type": "code",
    "colab": {}
   },
   "outputs": [],
   "source": [
    "csv_location = \"/content/drive/My Drive/GYMNOS/Video Dataset/\""
   ]
  },
  {
   "cell_type": "code",
   "execution_count": 0,
   "metadata": {
    "id": "2DM6NeKq-tl_",
    "colab_type": "code",
    "colab": {}
   },
   "outputs": [],
   "source": [
    "helper.generate_labels_csv(csv_location, 2610, 4338)"
   ]
  },
  {
   "cell_type": "code",
   "execution_count": 0,
   "metadata": {
    "id": "sQidEd6N-6rn",
    "colab_type": "code",
    "colab": {}
   },
   "outputs": [],
   "source": [
    "labels_location = \"/content/drive/My Drive/GYMNOS/Video Dataset/labels.csv\"\n",
    "helper.generate_partitions_csv(csv_location, labels_location)"
   ]
  },
  {
   "cell_type": "markdown",
   "metadata": {
    "id": "SPULJZ1oDehz",
    "colab_type": "text"
   },
   "source": [
    "---\n",
    "## Read in the labels and partitions CSVs\n"
   ]
  },
  {
   "cell_type": "code",
   "execution_count": 0,
   "metadata": {
    "id": "ha4gKbhpDlo6",
    "colab_type": "code",
    "colab": {}
   },
   "outputs": [],
   "source": [
    "partition_location = \"/content/drive/My Drive/GYMNOS/Video Dataset/partitions.csv\"\n",
    "labels_location = \"/content/drive/My Drive/GYMNOS/Video Dataset/labels.csv\"\n",
    "\n",
    "partition = helper.read_partition_csv(partition_location)\n",
    "labels = helper.read_labels_csv(labels_location)"
   ]
  },
  {
   "cell_type": "code",
   "execution_count": 0,
   "metadata": {
    "id": "pne43jc1EsKt",
    "colab_type": "code",
    "colab": {}
   },
   "outputs": [],
   "source": [
    "print(len(partition[\"train\"]))\n",
    "print(len(partition[\"validation\"]))\n",
    "print(len(partition[\"test\"]))"
   ]
  },
  {
   "cell_type": "markdown",
   "metadata": {
    "id": "yGX4BuSAEwAk",
    "colab_type": "text"
   },
   "source": [
    "--- \n",
    "## Initialize the DataGenerator"
   ]
  },
  {
   "cell_type": "code",
   "execution_count": 0,
   "metadata": {
    "id": "1nE5zP_ggx9n",
    "colab_type": "code",
    "colab": {}
   },
   "outputs": [],
   "source": [
    "import matplotlib.pyplot as plt"
   ]
  },
  {
   "cell_type": "code",
   "execution_count": 0,
   "metadata": {
    "id": "QAx1c29KBmEs",
    "colab_type": "code",
    "colab": {}
   },
   "outputs": [],
   "source": [
    "# Parameters\n",
    "params = {'data_location': \"/content/drive/My Drive/GYMNOS/Video Dataset/Frames/\",\n",
    "          'dim': (224, 224, 3),\n",
    "          'batch_size': 64,\n",
    "          'n_classes': 2,\n",
    "          'shuffle': True}\n",
    "\n",
    "train_generator = gen.DataGenerator(partition[\"train\"], labels, **params)\n",
    "validation_generator = gen.DataGenerator(partition[\"validation\"], labels, **params)"
   ]
  },
  {
   "cell_type": "code",
   "execution_count": 0,
   "metadata": {
    "id": "esf3WSXkbITc",
    "colab_type": "code",
    "colab": {}
   },
   "outputs": [],
   "source": [
    "images, labels = train_generator.__getitem__(0)"
   ]
  },
  {
   "cell_type": "code",
   "execution_count": 0,
   "metadata": {
    "id": "zpE4qGzYbWNB",
    "colab_type": "code",
    "colab": {}
   },
   "outputs": [],
   "source": [
    "helper.show_images(images)"
   ]
  },
  {
   "cell_type": "markdown",
   "metadata": {
    "id": "S6UHlb6hTsT0",
    "colab_type": "text"
   },
   "source": [
    "---\n",
    "## Add TPU Support"
   ]
  },
  {
   "cell_type": "code",
   "execution_count": 0,
   "metadata": {
    "id": "5MNiSzFnTxt1",
    "colab_type": "code",
    "colab": {}
   },
   "outputs": [],
   "source": [
    "import tensorflow as tf\n",
    "from tensorflow.keras.applications.vgg16 import VGG16\n",
    "from tensorflow.keras.models import Sequential\n",
    "from tensorflow.keras.layers import Dense\n",
    "from tensorflow.keras.layers import Dropout\n",
    "from tensorflow.keras.layers import Flatten\n",
    "from tensorflow.train import RMSPropOptimizer\n",
    "from tensorflow.keras.losses import binary_crossentropy\n",
    "from tensorflow.keras.models import load_model"
   ]
  },
  {
   "cell_type": "markdown",
   "metadata": {
    "id": "kyIq65aeJSEN",
    "colab_type": "text"
   },
   "source": [
    "---\n",
    "## Create the model\n"
   ]
  },
  {
   "cell_type": "code",
   "execution_count": 0,
   "metadata": {
    "id": "iggvm7CwZrS6",
    "colab_type": "code",
    "colab": {}
   },
   "outputs": [],
   "source": [
    "base_model = VGG16(weights='imagenet', include_top=False, input_shape=(224, 224, 3))    # include_top=False to remove the top layer\n",
    "\n",
    "# Freeze all of the layers from the Conv base because we are performing transfer learning on\n",
    "for layer in base_model.layers:\n",
    "  layer.trainable = False\n",
    "  \n",
    "for layer in base_model.layers:\n",
    "  print(layer, layer.trainable)"
   ]
  },
  {
   "cell_type": "code",
   "execution_count": 0,
   "metadata": {
    "id": "BtnXSXfDP_zq",
    "colab_type": "code",
    "colab": {}
   },
   "outputs": [],
   "source": [
    "model = Sequential()\n",
    "\n",
    "model.add(base_model)\n",
    "\n",
    "model.add(Flatten())\n",
    "model.add(Dense(1024, activation='relu'))\n",
    "model.add(Dropout(0.5))\n",
    "model.add(Dense(2, activation='sigmoid'))"
   ]
  },
  {
   "cell_type": "code",
   "execution_count": 0,
   "metadata": {
    "id": "vml2CrEURfRT",
    "colab_type": "code",
    "outputId": "38e7ae40-709b-46e4-a8b3-469c12c9321e",
    "colab": {
     "base_uri": "https://localhost:8080/",
     "height": 315.0
    }
   },
   "outputs": [
    {
     "name": "stdout",
     "output_type": "stream",
     "text": [
      "_________________________________________________________________\n",
      "Layer (type)                 Output Shape              Param #   \n",
      "=================================================================\n",
      "vgg16 (Model)                (None, 7, 7, 512)         14714688  \n",
      "_________________________________________________________________\n",
      "flatten_1 (Flatten)          (None, 25088)             0         \n",
      "_________________________________________________________________\n",
      "dense_2 (Dense)              (None, 1024)              25691136  \n",
      "_________________________________________________________________\n",
      "dropout_1 (Dropout)          (None, 1024)              0         \n",
      "_________________________________________________________________\n",
      "dense_3 (Dense)              (None, 2)                 2050      \n",
      "=================================================================\n",
      "Total params: 40,407,874\n",
      "Trainable params: 25,693,186\n",
      "Non-trainable params: 14,714,688\n",
      "_________________________________________________________________\n"
     ]
    }
   ],
   "source": [
    "model.summary()"
   ]
  },
  {
   "cell_type": "code",
   "execution_count": 0,
   "metadata": {
    "id": "3tbIGEZHU46f",
    "colab_type": "code",
    "outputId": "0a11b121-6fd2-48d5-89de-e1233064b0fc",
    "colab": {
     "base_uri": "https://localhost:8080/",
     "height": 343.0
    }
   },
   "outputs": [
    {
     "name": "stdout",
     "output_type": "stream",
     "text": [
      "INFO:tensorflow:Querying Tensorflow master (grpc://10.124.2.114:8470) for TPU system metadata.\n",
      "INFO:tensorflow:Found TPU system:\n",
      "INFO:tensorflow:*** Num TPU Cores: 8\n",
      "INFO:tensorflow:*** Num TPU Workers: 1\n",
      "INFO:tensorflow:*** Num TPU Cores Per Worker: 8\n",
      "INFO:tensorflow:*** Available Device: _DeviceAttributes(/job:worker/replica:0/task:0/device:CPU:0, CPU, -1, 14033533245884826474)\n",
      "INFO:tensorflow:*** Available Device: _DeviceAttributes(/job:worker/replica:0/task:0/device:XLA_CPU:0, XLA_CPU, 17179869184, 17619780622966036123)\n",
      "INFO:tensorflow:*** Available Device: _DeviceAttributes(/job:worker/replica:0/task:0/device:TPU:0, TPU, 17179869184, 10525561790330708032)\n",
      "INFO:tensorflow:*** Available Device: _DeviceAttributes(/job:worker/replica:0/task:0/device:TPU:1, TPU, 17179869184, 13538007211903003179)\n",
      "INFO:tensorflow:*** Available Device: _DeviceAttributes(/job:worker/replica:0/task:0/device:TPU:2, TPU, 17179869184, 12541477285445433208)\n",
      "INFO:tensorflow:*** Available Device: _DeviceAttributes(/job:worker/replica:0/task:0/device:TPU:3, TPU, 17179869184, 11577296578297698189)\n",
      "INFO:tensorflow:*** Available Device: _DeviceAttributes(/job:worker/replica:0/task:0/device:TPU:4, TPU, 17179869184, 12847728336267088051)\n",
      "INFO:tensorflow:*** Available Device: _DeviceAttributes(/job:worker/replica:0/task:0/device:TPU:5, TPU, 17179869184, 15083019703495711377)\n",
      "INFO:tensorflow:*** Available Device: _DeviceAttributes(/job:worker/replica:0/task:0/device:TPU:6, TPU, 17179869184, 15207347764358731982)\n",
      "INFO:tensorflow:*** Available Device: _DeviceAttributes(/job:worker/replica:0/task:0/device:TPU:7, TPU, 17179869184, 11286119301106308849)\n",
      "INFO:tensorflow:*** Available Device: _DeviceAttributes(/job:worker/replica:0/task:0/device:TPU_SYSTEM:0, TPU_SYSTEM, 17179869184, 4987499304439880532)\n",
      "WARNING:tensorflow:tpu_model (from tensorflow.contrib.tpu.python.tpu.keras_support) is experimental and may change or be removed at any time, and without warning.\n"
     ]
    }
   ],
   "source": [
    "# Convert model to TPU version\n",
    "tpu_model = tf.contrib.tpu.keras_to_tpu_model(\n",
    "            model,\n",
    "            strategy=tf.contrib.tpu.TPUDistributionStrategy(\n",
    "            tf.contrib.cluster_resolver.TPUClusterResolver(tpu='grpc://' + os.environ['COLAB_TPU_ADDR'])\n",
    "    )\n",
    ")"
   ]
  },
  {
   "cell_type": "code",
   "execution_count": 0,
   "metadata": {
    "id": "-O9bfcaoPqc6",
    "colab_type": "code",
    "colab": {}
   },
   "outputs": [],
   "source": [
    "tpu_model.compile(optimizer=RMSPropOptimizer(learning_rate=1e-3), \n",
    "              loss=binary_crossentropy,\n",
    "              metrics=['acc'])"
   ]
  },
  {
   "cell_type": "code",
   "execution_count": 0,
   "metadata": {
    "id": "Etj8VMcbXAyP",
    "colab_type": "code",
    "colab": {}
   },
   "outputs": [],
   "source": [
    "train_generator.__len__()"
   ]
  },
  {
   "cell_type": "code",
   "execution_count": 0,
   "metadata": {
    "id": "VvV1WAf5Qqx7",
    "colab_type": "code",
    "outputId": "7d82e2a9-38ef-413c-c3f4-c6d73c67f60f",
    "colab": {
     "base_uri": "https://localhost:8080/",
     "height": 1292.0
    }
   },
   "outputs": [
    {
     "name": "stdout",
     "output_type": "stream",
     "text": [
      "Epoch 1/30\n",
      "INFO:tensorflow:New input shapes; (re-)compiling: mode=train (# of cores 8), [TensorSpec(shape=(8,), dtype=tf.int32, name='core_id0'), TensorSpec(shape=(8, 224, 224, 3), dtype=tf.float32, name='vgg16_input_30'), TensorSpec(shape=(8, 2), dtype=tf.float32, name='dense_3_target_30')]\n",
      "INFO:tensorflow:Overriding default placeholder.\n",
      "INFO:tensorflow:Remapping placeholder for vgg16_input\n",
      "INFO:tensorflow:Remapping placeholder for input_2\n",
      "INFO:tensorflow:Default: input_2\n",
      "ERROR:tensorflow:Operation of type Placeholder (tpu_139642142791664/input_2) is not supported on the TPU. Execution will fail if this op is used in the graph. \n",
      "WARNING:tensorflow:From /usr/local/lib/python3.6/dist-packages/tensorflow/contrib/tpu/python/tpu/keras_support.py:302: to_float (from tensorflow.python.ops.math_ops) is deprecated and will be removed in a future version.\n",
      "Instructions for updating:\n",
      "Use tf.cast instead.\n",
      "WARNING:tensorflow:From /usr/local/lib/python3.6/dist-packages/tensorflow/python/ops/math_ops.py:3066: to_int32 (from tensorflow.python.ops.math_ops) is deprecated and will be removed in a future version.\n",
      "Instructions for updating:\n",
      "Use tf.cast instead.\n",
      "INFO:tensorflow:Started compiling\n"
     ]
    },
    {
     "ename": "RuntimeError",
     "evalue": "ignored",
     "traceback": [
      "\u001b[0;31m---------------------------------------------------------------------------\u001b[0m",
      "\u001b[0;31mRuntimeError\u001b[0m                              Traceback (most recent call last)",
      "\u001b[0;32m<ipython-input-27-9c55ad34c135>\u001b[0m in \u001b[0;36m<module>\u001b[0;34m()\u001b[0m\n\u001b[1;32m      4\u001b[0m                                   \u001b[0mvalidation_data\u001b[0m\u001b[0;34m=\u001b[0m\u001b[0mvalidation_generator\u001b[0m\u001b[0;34m,\u001b[0m\u001b[0;34m\u001b[0m\u001b[0;34m\u001b[0m\u001b[0m\n\u001b[1;32m      5\u001b[0m                                   \u001b[0mvalidation_steps\u001b[0m\u001b[0;34m=\u001b[0m\u001b[0mvalidation_generator\u001b[0m\u001b[0;34m.\u001b[0m\u001b[0m__len__\u001b[0m\u001b[0;34m(\u001b[0m\u001b[0;34m)\u001b[0m\u001b[0;34m,\u001b[0m\u001b[0;34m\u001b[0m\u001b[0;34m\u001b[0m\u001b[0m\n\u001b[0;32m----> 6\u001b[0;31m                                   verbose=1)\n\u001b[0m",
      "\u001b[0;32m/usr/local/lib/python3.6/dist-packages/tensorflow/python/keras/engine/training.py\u001b[0m in \u001b[0;36mfit_generator\u001b[0;34m(self, generator, steps_per_epoch, epochs, verbose, callbacks, validation_data, validation_steps, class_weight, max_queue_size, workers, use_multiprocessing, shuffle, initial_epoch)\u001b[0m\n\u001b[1;32m   1424\u001b[0m         \u001b[0muse_multiprocessing\u001b[0m\u001b[0;34m=\u001b[0m\u001b[0muse_multiprocessing\u001b[0m\u001b[0;34m,\u001b[0m\u001b[0;34m\u001b[0m\u001b[0;34m\u001b[0m\u001b[0m\n\u001b[1;32m   1425\u001b[0m         \u001b[0mshuffle\u001b[0m\u001b[0;34m=\u001b[0m\u001b[0mshuffle\u001b[0m\u001b[0;34m,\u001b[0m\u001b[0;34m\u001b[0m\u001b[0;34m\u001b[0m\u001b[0m\n\u001b[0;32m-> 1426\u001b[0;31m         initial_epoch=initial_epoch)\n\u001b[0m\u001b[1;32m   1427\u001b[0m \u001b[0;34m\u001b[0m\u001b[0m\n\u001b[1;32m   1428\u001b[0m   def evaluate_generator(self,\n",
      "\u001b[0;32m/usr/local/lib/python3.6/dist-packages/tensorflow/python/keras/engine/training_generator.py\u001b[0m in \u001b[0;36mmodel_iteration\u001b[0;34m(model, data, steps_per_epoch, epochs, verbose, callbacks, validation_data, validation_steps, class_weight, max_queue_size, workers, use_multiprocessing, shuffle, initial_epoch, mode, batch_size, **kwargs)\u001b[0m\n\u001b[1;32m    189\u001b[0m       \u001b[0mprogbar\u001b[0m\u001b[0;34m.\u001b[0m\u001b[0mon_batch_begin\u001b[0m\u001b[0;34m(\u001b[0m\u001b[0mstep\u001b[0m\u001b[0;34m,\u001b[0m \u001b[0mbatch_logs\u001b[0m\u001b[0;34m)\u001b[0m\u001b[0;34m\u001b[0m\u001b[0;34m\u001b[0m\u001b[0m\n\u001b[1;32m    190\u001b[0m \u001b[0;34m\u001b[0m\u001b[0m\n\u001b[0;32m--> 191\u001b[0;31m       \u001b[0mbatch_outs\u001b[0m \u001b[0;34m=\u001b[0m \u001b[0mbatch_function\u001b[0m\u001b[0;34m(\u001b[0m\u001b[0;34m*\u001b[0m\u001b[0mbatch_data\u001b[0m\u001b[0;34m)\u001b[0m\u001b[0;34m\u001b[0m\u001b[0;34m\u001b[0m\u001b[0m\n\u001b[0m\u001b[1;32m    192\u001b[0m       \u001b[0;32mif\u001b[0m \u001b[0;32mnot\u001b[0m \u001b[0misinstance\u001b[0m\u001b[0;34m(\u001b[0m\u001b[0mbatch_outs\u001b[0m\u001b[0;34m,\u001b[0m \u001b[0mlist\u001b[0m\u001b[0;34m)\u001b[0m\u001b[0;34m:\u001b[0m\u001b[0;34m\u001b[0m\u001b[0;34m\u001b[0m\u001b[0m\n\u001b[1;32m    193\u001b[0m         \u001b[0mbatch_outs\u001b[0m \u001b[0;34m=\u001b[0m \u001b[0;34m[\u001b[0m\u001b[0mbatch_outs\u001b[0m\u001b[0;34m]\u001b[0m\u001b[0;34m\u001b[0m\u001b[0;34m\u001b[0m\u001b[0m\n",
      "\u001b[0;32m/usr/local/lib/python3.6/dist-packages/tensorflow/python/keras/engine/training.py\u001b[0m in \u001b[0;36mtrain_on_batch\u001b[0;34m(self, x, y, sample_weight, class_weight, reset_metrics)\u001b[0m\n\u001b[1;32m   1189\u001b[0m       \u001b[0;32melse\u001b[0m\u001b[0;34m:\u001b[0m\u001b[0;34m\u001b[0m\u001b[0;34m\u001b[0m\u001b[0m\n\u001b[1;32m   1190\u001b[0m         \u001b[0mself\u001b[0m\u001b[0;34m.\u001b[0m\u001b[0m_make_fit_function\u001b[0m\u001b[0;34m(\u001b[0m\u001b[0;34m)\u001b[0m\u001b[0;34m\u001b[0m\u001b[0;34m\u001b[0m\u001b[0m\n\u001b[0;32m-> 1191\u001b[0;31m         \u001b[0moutputs\u001b[0m \u001b[0;34m=\u001b[0m \u001b[0mself\u001b[0m\u001b[0;34m.\u001b[0m\u001b[0m_fit_function\u001b[0m\u001b[0;34m(\u001b[0m\u001b[0mins\u001b[0m\u001b[0;34m)\u001b[0m  \u001b[0;31m# pylint: disable=not-callable\u001b[0m\u001b[0;34m\u001b[0m\u001b[0;34m\u001b[0m\u001b[0m\n\u001b[0m\u001b[1;32m   1192\u001b[0m \u001b[0;34m\u001b[0m\u001b[0m\n\u001b[1;32m   1193\u001b[0m     \u001b[0;32mif\u001b[0m \u001b[0mreset_metrics\u001b[0m\u001b[0;34m:\u001b[0m\u001b[0;34m\u001b[0m\u001b[0;34m\u001b[0m\u001b[0m\n",
      "\u001b[0;32m/usr/local/lib/python3.6/dist-packages/tensorflow/contrib/tpu/python/tpu/keras_support.py\u001b[0m in \u001b[0;36m__call__\u001b[0;34m(***failed resolving arguments***)\u001b[0m\n\u001b[1;32m   1258\u001b[0m     \u001b[0minput_specs\u001b[0m \u001b[0;34m=\u001b[0m \u001b[0minfeed_instance\u001b[0m\u001b[0;34m.\u001b[0m\u001b[0mmake_input_specs\u001b[0m\u001b[0;34m(\u001b[0m\u001b[0minput_tensors\u001b[0m\u001b[0;34m)\u001b[0m\u001b[0;34m\u001b[0m\u001b[0;34m\u001b[0m\u001b[0m\n\u001b[1;32m   1259\u001b[0m     tpu_model_ops = self._tpu_model_ops_for_input_specs(input_specs,\n\u001b[0;32m-> 1260\u001b[0;31m                                                         infeed_manager)\n\u001b[0m\u001b[1;32m   1261\u001b[0m     \u001b[0minfeed_dict\u001b[0m \u001b[0;34m=\u001b[0m \u001b[0minfeed_instance\u001b[0m\u001b[0;34m.\u001b[0m\u001b[0mmake_feed_dict\u001b[0m\u001b[0;34m(\u001b[0m\u001b[0mtpu_model_ops\u001b[0m\u001b[0;34m)\u001b[0m\u001b[0;34m\u001b[0m\u001b[0;34m\u001b[0m\u001b[0m\n\u001b[1;32m   1262\u001b[0m \u001b[0;34m\u001b[0m\u001b[0m\n",
      "\u001b[0;32m/usr/local/lib/python3.6/dist-packages/tensorflow/contrib/tpu/python/tpu/keras_support.py\u001b[0m in \u001b[0;36m_tpu_model_ops_for_input_specs\u001b[0;34m(self, input_specs, infeed_manager)\u001b[0m\n\u001b[1;32m   1169\u001b[0m                                                  infeed_manager)\n\u001b[1;32m   1170\u001b[0m       \u001b[0mself\u001b[0m\u001b[0;34m.\u001b[0m\u001b[0m_compilation_cache\u001b[0m\u001b[0;34m[\u001b[0m\u001b[0mshape_key\u001b[0m\u001b[0;34m]\u001b[0m \u001b[0;34m=\u001b[0m \u001b[0mnew_tpu_model_ops\u001b[0m\u001b[0;34m\u001b[0m\u001b[0;34m\u001b[0m\u001b[0m\n\u001b[0;32m-> 1171\u001b[0;31m       \u001b[0mself\u001b[0m\u001b[0;34m.\u001b[0m\u001b[0m_test_model_compiles\u001b[0m\u001b[0;34m(\u001b[0m\u001b[0mnew_tpu_model_ops\u001b[0m\u001b[0;34m)\u001b[0m\u001b[0;34m\u001b[0m\u001b[0;34m\u001b[0m\u001b[0m\n\u001b[0m\u001b[1;32m   1172\u001b[0m \u001b[0;34m\u001b[0m\u001b[0m\n\u001b[1;32m   1173\u001b[0m     \u001b[0;32mreturn\u001b[0m \u001b[0mself\u001b[0m\u001b[0;34m.\u001b[0m\u001b[0m_compilation_cache\u001b[0m\u001b[0;34m[\u001b[0m\u001b[0mshape_key\u001b[0m\u001b[0;34m]\u001b[0m\u001b[0;34m\u001b[0m\u001b[0;34m\u001b[0m\u001b[0m\n",
      "\u001b[0;32m/usr/local/lib/python3.6/dist-packages/tensorflow/contrib/tpu/python/tpu/keras_support.py\u001b[0m in \u001b[0;36m_test_model_compiles\u001b[0;34m(self, tpu_model_ops)\u001b[0m\n\u001b[1;32m   1112\u001b[0m     \u001b[0;32mif\u001b[0m \u001b[0mproto\u001b[0m\u001b[0;34m.\u001b[0m\u001b[0mstatus_error_message\u001b[0m\u001b[0;34m:\u001b[0m\u001b[0;34m\u001b[0m\u001b[0;34m\u001b[0m\u001b[0m\n\u001b[1;32m   1113\u001b[0m       raise RuntimeError('Compilation failed: {}'.format(\n\u001b[0;32m-> 1114\u001b[0;31m           proto.status_error_message))\n\u001b[0m\u001b[1;32m   1115\u001b[0m \u001b[0;34m\u001b[0m\u001b[0m\n\u001b[1;32m   1116\u001b[0m     \u001b[0mend_time\u001b[0m \u001b[0;34m=\u001b[0m \u001b[0mtime\u001b[0m\u001b[0;34m.\u001b[0m\u001b[0mtime\u001b[0m\u001b[0;34m(\u001b[0m\u001b[0;34m)\u001b[0m\u001b[0;34m\u001b[0m\u001b[0;34m\u001b[0m\u001b[0m\n",
      "\u001b[0;31mRuntimeError\u001b[0m: Compilation failed: Compilation failure: Detected unsupported operations when trying to compile graph cluster_9193914083056423636[] on XLA_TPU_JIT: Placeholder (No registered 'Placeholder' OpKernel for XLA_TPU_JIT devices compatible with node {{node tpu_139642142791664/input_2}}\n\t.  Registered:  device='TPU'\n  device='CPU'\n  device='GPU'\n  device='XLA_CPU'\n){{node tpu_139642142791664/input_2}}"
     ],
     "output_type": "error"
    }
   ],
   "source": [
    "history = tpu_model.fit_generator(train_generator,\n",
    "                                  steps_per_epoch=train_generator.__len__(),\n",
    "                                  epochs=30,\n",
    "                                  validation_data=validation_generator,\n",
    "                                  validation_steps=validation_generator.__len__(),\n",
    "                                  verbose=1)"
   ]
  },
  {
   "cell_type": "code",
   "execution_count": 0,
   "metadata": {
    "id": "nw34eMB3fFQA",
    "colab_type": "code",
    "colab": {}
   },
   "outputs": [],
   "source": [
    "iteration_1_location = \"/content/drive/My Drive/GYMNOS/Software Development/Implementation Details/Gymnos_i1/gymnos_i1_GPU.h5\""
   ]
  },
  {
   "cell_type": "code",
   "execution_count": 0,
   "metadata": {
    "id": "EfdwBYs4Oi_J",
    "colab_type": "code",
    "outputId": "5f5f183a-6771-4622-9b47-17e1c05bac1e",
    "colab": {
     "base_uri": "https://localhost:8080/",
     "height": 54.0
    }
   },
   "outputs": [
    {
     "name": "stdout",
     "output_type": "stream",
     "text": [
      "WARNING:tensorflow:TensorFlow optimizers do not make it possible to access optimizer attributes or optimizer state after instantiation. As a result, we cannot save the optimizer as part of the model save file.You will have to compile your model again after loading it. Prefer using a Keras optimizer instead (see keras.io/optimizers).\n"
     ]
    }
   ],
   "source": [
    "# Save all of your hard work\n",
    "model.save(iteration_1_location)"
   ]
  },
  {
   "cell_type": "markdown",
   "metadata": {
    "id": "DCBUwXbvOCsF",
    "colab_type": "text"
   },
   "source": [
    "---\n",
    "## Evaluating the Model\n",
    "Now that the Model has it's weights initialized, let see how it performs on the test set."
   ]
  },
  {
   "cell_type": "code",
   "execution_count": 0,
   "metadata": {
    "id": "ZUVKwmp-e5Qg",
    "colab_type": "code",
    "outputId": "c91deebc-1999-4518-f512-a390ebc2b8c7",
    "colab": {
     "base_uri": "https://localhost:8080/",
     "height": 34.0
    }
   },
   "outputs": [
    {
     "name": "stdout",
     "output_type": "stream",
     "text": [
      "WARNING:tensorflow:No training configuration found in save file: the model was *not* compiled. Compile it manually.\n"
     ]
    }
   ],
   "source": [
    "trained_model = load_model(iteration_1_location)"
   ]
  },
  {
   "cell_type": "code",
   "execution_count": 0,
   "metadata": {
    "id": "JGkfT_0oOQQL",
    "colab_type": "code",
    "colab": {}
   },
   "outputs": [],
   "source": [
    "# Parameters\n",
    "params = {'data_location': \"/content/drive/My Drive/GYMNOS/Video Dataset/Frames/\",\n",
    "          'dim': (224, 224, 3),\n",
    "          'batch_size': 64,\n",
    "          'n_classes': 2,\n",
    "          'shuffle': True}\n",
    "\n",
    "test_generator = gen.DataGenerator(partition[\"test\"], labels, **params)"
   ]
  },
  {
   "cell_type": "code",
   "execution_count": 0,
   "metadata": {
    "id": "2AcR3n8WkkBT",
    "colab_type": "code",
    "colab": {}
   },
   "outputs": [],
   "source": [
    "images, pred_class = test_generator.__getitem__(0)"
   ]
  },
  {
   "cell_type": "code",
   "execution_count": 0,
   "metadata": {
    "id": "i4bRBLrWk1qs",
    "colab_type": "code",
    "colab": {}
   },
   "outputs": [],
   "source": [
    "helper.show_images(images)"
   ]
  },
  {
   "cell_type": "code",
   "execution_count": 0,
   "metadata": {
    "id": "LUKO4ewdk6xT",
    "colab_type": "code",
    "colab": {}
   },
   "outputs": [],
   "source": [
    "model_predictions = trained_model.predict_classes(images)"
   ]
  },
  {
   "cell_type": "code",
   "execution_count": 0,
   "metadata": {
    "id": "MITuo7RLlMYy",
    "colab_type": "code",
    "colab": {}
   },
   "outputs": [],
   "source": [
    "for index, number in enumerate(model_predictions):\n",
    "  if number == 0:\n",
    "    print(\"Image(\"+ str(index + 1) + \") is a squat\")\n",
    "  else:\n",
    "    print(\"Image(\"+ str(index + 1) + \") is a overheadpress\")"
   ]
  }
 ],
 "metadata": {
  "colab": {
   "name": "Model_Training_TPU.ipynb",
   "version": "0.3.2",
   "provenance": [],
   "collapsed_sections": [],
   "include_colab_link": true
  },
  "kernelspec": {
   "name": "python3",
   "display_name": "Python 3"
  },
  "accelerator": "TPU"
 },
 "nbformat": 4,
 "nbformat_minor": 0
}
