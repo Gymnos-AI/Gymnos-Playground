{
  "nbformat": 4,
  "nbformat_minor": 0,
  "metadata": {
    "colab": {
      "name": "Model_Training_TPU.ipynb",
      "version": "0.3.2",
      "provenance": [],
      "collapsed_sections": [],
      "include_colab_link": true
    },
    "kernelspec": {
      "name": "python3",
      "display_name": "Python 3"
    },
    "accelerator": "GPU"
  },
  "cells": [
    {
      "cell_type": "markdown",
      "metadata": {
        "id": "view-in-github",
        "colab_type": "text"
      },
      "source": [
        "<a href=\"https://colab.research.google.com/github/JamesPeralta/Gymnos/blob/master/NeuralNetwork/Iteration2/Model_Training_GPU.ipynb\" target=\"_parent\"><img src=\"https://colab.research.google.com/assets/colab-badge.svg\" alt=\"Open In Colab\"/></a>"
      ]
    },
    {
      "cell_type": "markdown",
      "metadata": {
        "id": "fCKo8-OmyF6E",
        "colab_type": "text"
      },
      "source": [
        "# Gymnos Iteration 2\n",
        "## Gymnos iteration 2 will use a single stream 2D convolutional neural network. For each video we will be passing in only one frame and the AIs prediction will be based on the single frame.\n",
        "\n"
      ]
    },
    {
      "cell_type": "code",
      "metadata": {
        "id": "QEsJzdLevAMW",
        "colab_type": "code",
        "colab": {
          "base_uri": "https://localhost:8080/",
          "height": 683
        },
        "outputId": "4e587565-ac68-4fb9-f8b3-c74eaf543b1c"
      },
      "source": [
        "# You can list all of the hardware device running on your instance\n",
        "from tensorflow.python.client import device_lib\n",
        "\n",
        "local_devices = device_lib.list_local_devices()\n",
        "\n",
        "for device in local_devices:\n",
        "  print(\"_______________________________________\\n\" + str(device))"
      ],
      "execution_count": 11,
      "outputs": [
        {
          "output_type": "stream",
          "text": [
            "_______________________________________\n",
            "name: \"/device:CPU:0\"\n",
            "device_type: \"CPU\"\n",
            "memory_limit: 268435456\n",
            "locality {\n",
            "}\n",
            "incarnation: 5130844896478548701\n",
            "\n",
            "_______________________________________\n",
            "name: \"/device:XLA_CPU:0\"\n",
            "device_type: \"XLA_CPU\"\n",
            "memory_limit: 17179869184\n",
            "locality {\n",
            "}\n",
            "incarnation: 14004601089251184581\n",
            "physical_device_desc: \"device: XLA_CPU device\"\n",
            "\n",
            "_______________________________________\n",
            "name: \"/device:XLA_GPU:0\"\n",
            "device_type: \"XLA_GPU\"\n",
            "memory_limit: 17179869184\n",
            "locality {\n",
            "}\n",
            "incarnation: 7125813881562010566\n",
            "physical_device_desc: \"device: XLA_GPU device\"\n",
            "\n",
            "_______________________________________\n",
            "name: \"/device:GPU:0\"\n",
            "device_type: \"GPU\"\n",
            "memory_limit: 14800692839\n",
            "locality {\n",
            "  bus_id: 1\n",
            "  links {\n",
            "  }\n",
            "}\n",
            "incarnation: 3653598225541128169\n",
            "physical_device_desc: \"device: 0, name: Tesla T4, pci bus id: 0000:00:04.0, compute capability: 7.5\"\n",
            "\n"
          ],
          "name": "stdout"
        }
      ]
    },
    {
      "cell_type": "markdown",
      "metadata": {
        "id": "1R_UnsdvAjPj",
        "colab_type": "text"
      },
      "source": [
        "---\n",
        "## Mount drive and download libraries from Github"
      ]
    },
    {
      "cell_type": "code",
      "metadata": {
        "id": "tt4dWZuXDqgy",
        "colab_type": "code",
        "outputId": "b7cb4f8e-653d-4eac-c7b0-d48825658d23",
        "colab": {
          "base_uri": "https://localhost:8080/",
          "height": 122
        }
      },
      "source": [
        "from google.colab import drive\n",
        "import os\n",
        "import csv\n",
        "import importlib\n",
        "\n",
        "drive.mount('/content/drive')"
      ],
      "execution_count": 2,
      "outputs": [
        {
          "output_type": "stream",
          "text": [
            "Go to this URL in a browser: https://accounts.google.com/o/oauth2/auth?client_id=947318989803-6bn6qk8qdgf4n4g3pfee6491hc0brc4i.apps.googleusercontent.com&redirect_uri=urn%3Aietf%3Awg%3Aoauth%3A2.0%3Aoob&scope=email%20https%3A%2F%2Fwww.googleapis.com%2Fauth%2Fdocs.test%20https%3A%2F%2Fwww.googleapis.com%2Fauth%2Fdrive%20https%3A%2F%2Fwww.googleapis.com%2Fauth%2Fdrive.photos.readonly%20https%3A%2F%2Fwww.googleapis.com%2Fauth%2Fpeopleapi.readonly&response_type=code\n",
            "\n",
            "Enter your authorization code:\n",
            "··········\n",
            "Mounted at /content/drive\n"
          ],
          "name": "stdout"
        }
      ]
    },
    {
      "cell_type": "code",
      "metadata": {
        "id": "KZyE20JCOjMr",
        "colab_type": "code",
        "outputId": "e0a14ebf-3d0e-4f6f-b694-ffe0056cae45",
        "colab": {
          "base_uri": "https://localhost:8080/",
          "height": 119
        }
      },
      "source": [
        "# Retrieve the Data Generator Library\n",
        "!curl \"https://raw.githubusercontent.com/JamesPeralta/Gymnos/master/NeuralNetwork/Iteration2/GymnosDataGenerator_i2.py?token=AFLRMHM7V72NUHWQTAFJXH245GXS2\" >> GymnosDataGenerator_i2.py\n",
        "# Retrieve the Helper Functions Library\n",
        "!curl \"https://raw.githubusercontent.com/JamesPeralta/Gymnos/master/NeuralNetwork/Iteration2/HelperFunctions_i2.py?token=AFLRMHMUYT2EXZCEUYWNN4C45GE4W\" >> HelperFunctions_i2.py"
      ],
      "execution_count": 4,
      "outputs": [
        {
          "output_type": "stream",
          "text": [
            "  % Total    % Received % Xferd  Average Speed   Time    Time     Time  Current\n",
            "                                 Dload  Upload   Total   Spent    Left  Speed\n",
            "100  4473  100  4473    0     0  19880      0 --:--:-- --:--:-- --:--:-- 19880\n",
            "  % Total    % Received % Xferd  Average Speed   Time    Time     Time  Current\n",
            "                                 Dload  Upload   Total   Spent    Left  Speed\n",
            "100  6054  100  6054    0     0   203k      0 --:--:-- --:--:-- --:--:--  203k\n"
          ],
          "name": "stdout"
        }
      ]
    },
    {
      "cell_type": "markdown",
      "metadata": {
        "id": "fLN0jyG0_N4p",
        "colab_type": "text"
      },
      "source": [
        "---\n",
        "## Imports"
      ]
    },
    {
      "cell_type": "code",
      "metadata": {
        "id": "zUcsDeTG_txu",
        "colab_type": "code",
        "outputId": "2fe0d494-dcdc-475c-d037-9bddedc65ee4",
        "colab": {
          "base_uri": "https://localhost:8080/",
          "height": 34
        }
      },
      "source": [
        "import GymnosDataGenerator_i2 as gen\n",
        "import HelperFunctions_i2 as helper"
      ],
      "execution_count": 5,
      "outputs": [
        {
          "output_type": "stream",
          "text": [
            "Using TensorFlow backend.\n"
          ],
          "name": "stderr"
        }
      ]
    },
    {
      "cell_type": "markdown",
      "metadata": {
        "id": "IyczqNq2eMRU",
        "colab_type": "text"
      },
      "source": [
        "---\n",
        "## Create a labels and partitions CSV\n"
      ]
    },
    {
      "cell_type": "code",
      "metadata": {
        "id": "69ND8i6xU-f0",
        "colab_type": "code",
        "colab": {}
      },
      "source": [
        "csv_location = \"/content/drive/My Drive/GYMNOS/Video Dataset/\"\n",
        "labels_location = \"/content/drive/My Drive/GYMNOS/Video Dataset/labels.csv\"\n",
        "partitions_location = \"/content/drive/My Drive/GYMNOS/Video Dataset/partitions.csv\"\n",
        "squats_location = \"/content/drive/My Drive/GYMNOS/Video Dataset/Squats/FaceView/\"\n",
        "overhead_location = \"/content/drive/My Drive/GYMNOS/Video Dataset/Overhead Press/FaceView/\"\n",
        "squats_label = 0\n",
        "overhead_label = 1"
      ],
      "execution_count": 0,
      "outputs": []
    },
    {
      "cell_type": "code",
      "metadata": {
        "id": "f7d6yDYCUtQU",
        "colab_type": "code",
        "colab": {}
      },
      "source": [
        "helper.init_labels_csv(labels_location)"
      ],
      "execution_count": 0,
      "outputs": []
    },
    {
      "cell_type": "code",
      "metadata": {
        "id": "CweFBv4AY7Ka",
        "colab_type": "code",
        "colab": {}
      },
      "source": [
        "# Label the squat dataset\n",
        "helper.append_to_labels_csv(labels_location, squats_location, squats_label)\n",
        "\n",
        "# Label the overhead press dataset\n",
        "helper.append_to_labels_csv(labels_location, overhead_location, overhead_label)"
      ],
      "execution_count": 0,
      "outputs": []
    },
    {
      "cell_type": "code",
      "metadata": {
        "id": "QWBiUNsIb56H",
        "colab_type": "code",
        "colab": {}
      },
      "source": [
        "helper.generate_partitions_csv(partitions_location, labels_location)"
      ],
      "execution_count": 0,
      "outputs": []
    },
    {
      "cell_type": "markdown",
      "metadata": {
        "id": "SPULJZ1oDehz",
        "colab_type": "text"
      },
      "source": [
        "---\n",
        "## Read in the labels and partitions CSVs\n"
      ]
    },
    {
      "cell_type": "code",
      "metadata": {
        "id": "ha4gKbhpDlo6",
        "colab_type": "code",
        "colab": {}
      },
      "source": [
        "partition_location = \"/content/drive/My Drive/GYMNOS/Video Dataset/partitions.csv\"\n",
        "labels_location = \"/content/drive/My Drive/GYMNOS/Video Dataset/labels.csv\"\n",
        "\n",
        "partition = helper.read_partition_csv(partition_location)\n",
        "labels = helper.read_labels_csv(labels_location)"
      ],
      "execution_count": 0,
      "outputs": []
    },
    {
      "cell_type": "code",
      "metadata": {
        "id": "pne43jc1EsKt",
        "colab_type": "code",
        "outputId": "1b077e6c-f4c3-4a03-80b9-7e4b21725611",
        "colab": {
          "base_uri": "https://localhost:8080/",
          "height": 68
        }
      },
      "source": [
        "print(len(partition[\"train\"]))\n",
        "print(len(partition[\"validation\"]))\n",
        "print(len(partition[\"test\"]))"
      ],
      "execution_count": 12,
      "outputs": [
        {
          "output_type": "stream",
          "text": [
            "1060\n",
            "15\n",
            "8\n"
          ],
          "name": "stdout"
        }
      ]
    },
    {
      "cell_type": "code",
      "metadata": {
        "id": "Fir47NQPgeG8",
        "colab_type": "code",
        "colab": {
          "base_uri": "https://localhost:8080/",
          "height": 54
        },
        "outputId": "86e4e240-2a3a-4ec4-994f-df7918056fdb"
      },
      "source": [
        "print(partition[\"train\"])"
      ],
      "execution_count": 8,
      "outputs": [
        {
          "output_type": "stream",
          "text": [
            "['/content/drive/My Drive/GYMNOS/Video Dataset/Squats/FaceView/video16.MOV', '/content/drive/My Drive/GYMNOS/Video Dataset/Squats/FaceView/IMG_8986.TRIM.MOV', '/content/drive/My Drive/GYMNOS/Video Dataset/Squats/FaceView/IMG_8689 (1).TRIM.MOV', '/content/drive/My Drive/GYMNOS/Video Dataset/Overhead Press/FaceView/IMG_8988.TRIM.MOV', '/content/drive/My Drive/GYMNOS/Video Dataset/Overhead Press/FaceView/video20.MOV', '/content/drive/My Drive/GYMNOS/Video Dataset/Overhead Press/FaceView/IMG_8688.TRIM.MOV', '/content/drive/My Drive/GYMNOS/Video Dataset/Overhead Press/FaceView/video15.MOV', '/content/drive/My Drive/GYMNOS/Video Dataset/Overhead Press/FaceView/video21.MOV', '/content/drive/My Drive/GYMNOS/Video Dataset/Squats/FaceView/video26.MOV', '/content/drive/My Drive/GYMNOS/Video Dataset/Overhead Press/FaceView/IMG_8983.TRIM.MOV', '/content/drive/My Drive/GYMNOS/Video Dataset/Squats/FaceView/video4.MOV', '/content/drive/My Drive/GYMNOS/Video Dataset/Squats/FaceView/video27.MOV', '/content/drive/My Drive/GYMNOS/Video Dataset/Squats/FaceView/video6.MOV', '/content/drive/My Drive/GYMNOS/Video Dataset/Squats/FaceView/video3.MOV', '/content/drive/My Drive/GYMNOS/Video Dataset/Squats/FaceView/video17.MOV', '/content/drive/My Drive/GYMNOS/Video Dataset/Overhead Press/FaceView/video16.MOV', '/content/drive/My Drive/GYMNOS/Video Dataset/Overhead Press/FaceView/video24.MOV', '/content/drive/My Drive/GYMNOS/Video Dataset/Overhead Press/FaceView/video25.MOV', '/content/drive/My Drive/GYMNOS/Video Dataset/Overhead Press/FaceView/IMG_8689.TRIM.MOV', '/content/drive/My Drive/GYMNOS/Video Dataset/Overhead Press/FaceView/IMG_8988 (1).TRIM.MOV', '/content/drive/My Drive/GYMNOS/Video Dataset/Overhead Press/FaceView/video18.MOV', '/content/drive/My Drive/GYMNOS/Video Dataset/Overhead Press/FaceView/video17.MOV', '/content/drive/My Drive/GYMNOS/Video Dataset/Squats/FaceView/IMG_8983.TRIM.MOV', '/content/drive/My Drive/GYMNOS/Video Dataset/Overhead Press/FaceView/IMG_8685 (1).TRIM.MOV', '/content/drive/My Drive/GYMNOS/Video Dataset/Squats/FaceView/video19.MOV', '/content/drive/My Drive/GYMNOS/Video Dataset/Squats/FaceView/video22.MOV', '/content/drive/My Drive/GYMNOS/Video Dataset/Overhead Press/FaceView/IMG_8986.TRIM.MOV', '/content/drive/My Drive/GYMNOS/Video Dataset/Overhead Press/FaceView/IMG_8987.TRIM.MOV', '/content/drive/My Drive/GYMNOS/Video Dataset/Overhead Press/FaceView/IMG_8689 (1).TRIM.MOV', '/content/drive/My Drive/GYMNOS/Video Dataset/Overhead Press/FaceView/IMG_8985.TRIM.MOV', '/content/drive/My Drive/GYMNOS/Video Dataset/Squats/FaceView/IMG_8688.TRIM.MOV', '/content/drive/My Drive/GYMNOS/Video Dataset/Squats/FaceView/video1.MOV', '/content/drive/My Drive/GYMNOS/Video Dataset/Overhead Press/FaceView/video23.MOV', '/content/drive/My Drive/GYMNOS/Video Dataset/Squats/FaceView/IMG_8982.TRIM.MOV', '/content/drive/My Drive/GYMNOS/Video Dataset/Overhead Press/FaceView/video14.MOV', '/content/drive/My Drive/GYMNOS/Video Dataset/Squats/FaceView/video21.MOV', '/content/drive/My Drive/GYMNOS/Video Dataset/Squats/FaceView/video8.MOV', '/content/drive/My Drive/GYMNOS/Video Dataset/Squats/FaceView/IMG_8687 (1).TRIM.MOV', '/content/drive/My Drive/GYMNOS/Video Dataset/Squats/FaceView/video2.MOV', '/content/drive/My Drive/GYMNOS/Video Dataset/Squats/FaceView/IMG_8989.TRIM.MOV', '/content/drive/My Drive/GYMNOS/Video Dataset/Overhead Press/FaceView/video22.MOV', '/content/drive/My Drive/GYMNOS/Video Dataset/Overhead Press/FaceView/IMG_8688 (1).TRIM.MOV', '/content/drive/My Drive/GYMNOS/Video Dataset/Overhead Press/FaceView/video10.MOV', '/content/drive/My Drive/GYMNOS/Video Dataset/Overhead Press/FaceView/video12.MOV', '/content/drive/My Drive/GYMNOS/Video Dataset/Squats/FaceView/IMG_8988.TRIM.MOV', '/content/drive/My Drive/GYMNOS/Video Dataset/Overhead Press/FaceView/video11.MOV', '/content/drive/My Drive/GYMNOS/Video Dataset/Squats/FaceView/IMG_8687.TRIM.MOV', '/content/drive/My Drive/GYMNOS/Video Dataset/Squats/FaceView/video18.MOV', '/content/drive/My Drive/GYMNOS/Video Dataset/Squats/FaceView/IMG_8685.TRIM.MOV', '/content/drive/My Drive/GYMNOS/Video Dataset/Overhead Press/FaceView/video28.MOV', '/content/drive/My Drive/GYMNOS/Video Dataset/Squats/FaceView/IMG_8689.TRIM.MOV', '/content/drive/My Drive/GYMNOS/Video Dataset/Overhead Press/FaceView/IMG_8687 (1).TRIM.MOV', '/content/drive/My Drive/GYMNOS/Video Dataset/Overhead Press/FaceView/IMG_8982.TRIM.MOV']\n"
          ],
          "name": "stdout"
        }
      ]
    },
    {
      "cell_type": "code",
      "metadata": {
        "id": "j4qml54ejGxm",
        "colab_type": "code",
        "colab": {}
      },
      "source": [
        "# Expand the train partition by 20\n",
        "new_train = []\n",
        "for i in range(20):\n",
        "  for train in partition[\"train\"]:\n",
        "    new_train.append(train)\n",
        "    \n",
        "partition[\"train\"] = new_train"
      ],
      "execution_count": 0,
      "outputs": []
    },
    {
      "cell_type": "markdown",
      "metadata": {
        "id": "yGX4BuSAEwAk",
        "colab_type": "text"
      },
      "source": [
        "--- \n",
        "## Initialize the DataGenerator"
      ]
    },
    {
      "cell_type": "code",
      "metadata": {
        "id": "1nE5zP_ggx9n",
        "colab_type": "code",
        "colab": {}
      },
      "source": [
        "import matplotlib.pyplot as plt"
      ],
      "execution_count": 0,
      "outputs": []
    },
    {
      "cell_type": "code",
      "metadata": {
        "id": "QAx1c29KBmEs",
        "colab_type": "code",
        "colab": {}
      },
      "source": [
        "train_params = {'frames_per_video': 10,\n",
        "                'frame_strides': 6,\n",
        "                'frame_dim': (128, 128),\n",
        "                'batch_size': 32,\n",
        "                'n_classes': 2,\n",
        "                'shuffle': True}\n",
        "\n",
        "train_generator = gen.DataGenerator(partition[\"train\"], labels, **train_params)"
      ],
      "execution_count": 0,
      "outputs": []
    },
    {
      "cell_type": "code",
      "metadata": {
        "id": "esf3WSXkbITc",
        "colab_type": "code",
        "colab": {}
      },
      "source": [
        "vid_frames, vid_labels = train_generator.__getitem__(1)"
      ],
      "execution_count": 0,
      "outputs": []
    },
    {
      "cell_type": "code",
      "metadata": {
        "id": "GFqjcnNKugbw",
        "colab_type": "code",
        "colab": {}
      },
      "source": [
        "print(vid_frames.shape)\n",
        "print(vid_labels.shape)"
      ],
      "execution_count": 0,
      "outputs": []
    },
    {
      "cell_type": "code",
      "metadata": {
        "id": "v2CTsjgryStE",
        "colab_type": "code",
        "colab": {}
      },
      "source": [
        "print(vid_labels[2])"
      ],
      "execution_count": 0,
      "outputs": []
    },
    {
      "cell_type": "code",
      "metadata": {
        "id": "y5WxjPMP2PC_",
        "colab_type": "code",
        "colab": {}
      },
      "source": [
        "helper.show_images(vid_frames[2])"
      ],
      "execution_count": 0,
      "outputs": []
    },
    {
      "cell_type": "markdown",
      "metadata": {
        "id": "S6UHlb6hTsT0",
        "colab_type": "text"
      },
      "source": [
        "---\n",
        "## Add TPU Support"
      ]
    },
    {
      "cell_type": "code",
      "metadata": {
        "id": "5MNiSzFnTxt1",
        "colab_type": "code",
        "colab": {}
      },
      "source": [
        "import tensorflow as tf\n",
        "from tensorflow.keras.models import Sequential\n",
        "from tensorflow.keras.layers import Conv3D\n",
        "from tensorflow.keras.layers import MaxPooling3D\n",
        "from tensorflow.keras.layers import Flatten\n",
        "from tensorflow.keras.layers import Dense\n",
        "from tensorflow.keras import optimizers\n",
        "from tensorflow.keras.models import load_model"
      ],
      "execution_count": 0,
      "outputs": []
    },
    {
      "cell_type": "markdown",
      "metadata": {
        "id": "kyIq65aeJSEN",
        "colab_type": "text"
      },
      "source": [
        "---\n",
        "## Create the model\n"
      ]
    },
    {
      "cell_type": "code",
      "metadata": {
        "id": "AkY4-M_T3OZq",
        "colab_type": "code",
        "colab": {}
      },
      "source": [
        "def create_model():\n",
        "  model = Sequential()\n",
        "  \n",
        "  model.add(Conv3D(32, (3, 3, 3), activation='relu', input_shape=(10, 128, 128, 3)))\n",
        "  model.add(MaxPooling3D((2, 2, 2)))\n",
        "  \n",
        "  model.add(Flatten())\n",
        "  \n",
        "  model.add(Dense(128, activation='relu'))\n",
        "  model.add(Dense(128, activation='relu'))\n",
        "  \n",
        "  model.add(Dense(2, activation='sigmoid'))\n",
        "  \n",
        "  model.compile(loss='binary_crossentropy', optimizer=optimizers.RMSprop(lr=0.01), metrics=['acc'])\n",
        "  \n",
        "  return model"
      ],
      "execution_count": 0,
      "outputs": []
    },
    {
      "cell_type": "code",
      "metadata": {
        "id": "BtnXSXfDP_zq",
        "colab_type": "code",
        "colab": {}
      },
      "source": [
        "model = create_model()"
      ],
      "execution_count": 0,
      "outputs": []
    },
    {
      "cell_type": "code",
      "metadata": {
        "id": "vml2CrEURfRT",
        "colab_type": "code",
        "colab": {}
      },
      "source": [
        "model.summary()"
      ],
      "execution_count": 0,
      "outputs": []
    },
    {
      "cell_type": "code",
      "metadata": {
        "id": "VvV1WAf5Qqx7",
        "colab_type": "code",
        "colab": {
          "base_uri": "https://localhost:8080/",
          "height": 429
        },
        "outputId": "5e31cd3e-ed8c-4d39-f051-6d7c46b61ea5"
      },
      "source": [
        "history = model.fit_generator(train_generator,\n",
        "                              steps_per_epoch=train_generator.__len__(),\n",
        "                              epochs=30,\n",
        "                              verbose=1)"
      ],
      "execution_count": 57,
      "outputs": [
        {
          "output_type": "stream",
          "text": [
            "WARNING:tensorflow:From /usr/local/lib/python3.6/dist-packages/tensorflow/python/ops/math_ops.py:3066: to_int32 (from tensorflow.python.ops.math_ops) is deprecated and will be removed in a future version.\n",
            "Instructions for updating:\n",
            "Use tf.cast instead.\n",
            "Epoch 1/30\n"
          ],
          "name": "stdout"
        },
        {
          "output_type": "error",
          "ename": "ValueError",
          "evalue": "ignored",
          "traceback": [
            "\u001b[0;31m---------------------------------------------------------------------------\u001b[0m",
            "\u001b[0;31mValueError\u001b[0m                                Traceback (most recent call last)",
            "\u001b[0;32m<ipython-input-57-7924a8f8cc01>\u001b[0m in \u001b[0;36m<module>\u001b[0;34m()\u001b[0m\n\u001b[1;32m      2\u001b[0m                               \u001b[0msteps_per_epoch\u001b[0m\u001b[0;34m=\u001b[0m\u001b[0mtrain_generator\u001b[0m\u001b[0;34m.\u001b[0m\u001b[0m__len__\u001b[0m\u001b[0;34m(\u001b[0m\u001b[0;34m)\u001b[0m\u001b[0;34m,\u001b[0m\u001b[0;34m\u001b[0m\u001b[0;34m\u001b[0m\u001b[0m\n\u001b[1;32m      3\u001b[0m                               \u001b[0mepochs\u001b[0m\u001b[0;34m=\u001b[0m\u001b[0;36m30\u001b[0m\u001b[0;34m,\u001b[0m\u001b[0;34m\u001b[0m\u001b[0;34m\u001b[0m\u001b[0m\n\u001b[0;32m----> 4\u001b[0;31m                               verbose=1)\n\u001b[0m",
            "\u001b[0;32m/usr/local/lib/python3.6/dist-packages/tensorflow/python/keras/engine/training.py\u001b[0m in \u001b[0;36mfit_generator\u001b[0;34m(self, generator, steps_per_epoch, epochs, verbose, callbacks, validation_data, validation_steps, class_weight, max_queue_size, workers, use_multiprocessing, shuffle, initial_epoch)\u001b[0m\n\u001b[1;32m   1424\u001b[0m         \u001b[0muse_multiprocessing\u001b[0m\u001b[0;34m=\u001b[0m\u001b[0muse_multiprocessing\u001b[0m\u001b[0;34m,\u001b[0m\u001b[0;34m\u001b[0m\u001b[0;34m\u001b[0m\u001b[0m\n\u001b[1;32m   1425\u001b[0m         \u001b[0mshuffle\u001b[0m\u001b[0;34m=\u001b[0m\u001b[0mshuffle\u001b[0m\u001b[0;34m,\u001b[0m\u001b[0;34m\u001b[0m\u001b[0;34m\u001b[0m\u001b[0m\n\u001b[0;32m-> 1426\u001b[0;31m         initial_epoch=initial_epoch)\n\u001b[0m\u001b[1;32m   1427\u001b[0m \u001b[0;34m\u001b[0m\u001b[0m\n\u001b[1;32m   1428\u001b[0m   def evaluate_generator(self,\n",
            "\u001b[0;32m/usr/local/lib/python3.6/dist-packages/tensorflow/python/keras/engine/training_generator.py\u001b[0m in \u001b[0;36mmodel_iteration\u001b[0;34m(model, data, steps_per_epoch, epochs, verbose, callbacks, validation_data, validation_steps, class_weight, max_queue_size, workers, use_multiprocessing, shuffle, initial_epoch, mode, batch_size, **kwargs)\u001b[0m\n\u001b[1;32m    175\u001b[0m \u001b[0;34m\u001b[0m\u001b[0m\n\u001b[1;32m    176\u001b[0m     \u001b[0;32mfor\u001b[0m \u001b[0mstep\u001b[0m \u001b[0;32min\u001b[0m \u001b[0mrange\u001b[0m\u001b[0;34m(\u001b[0m\u001b[0msteps_per_epoch\u001b[0m\u001b[0;34m)\u001b[0m\u001b[0;34m:\u001b[0m\u001b[0;34m\u001b[0m\u001b[0;34m\u001b[0m\u001b[0m\n\u001b[0;32m--> 177\u001b[0;31m       \u001b[0mbatch_data\u001b[0m \u001b[0;34m=\u001b[0m \u001b[0m_get_next_batch\u001b[0m\u001b[0;34m(\u001b[0m\u001b[0moutput_generator\u001b[0m\u001b[0;34m,\u001b[0m \u001b[0mmode\u001b[0m\u001b[0;34m)\u001b[0m\u001b[0;34m\u001b[0m\u001b[0;34m\u001b[0m\u001b[0m\n\u001b[0m\u001b[1;32m    178\u001b[0m       \u001b[0;32mif\u001b[0m \u001b[0mbatch_data\u001b[0m \u001b[0;32mis\u001b[0m \u001b[0;32mNone\u001b[0m\u001b[0;34m:\u001b[0m\u001b[0;34m\u001b[0m\u001b[0;34m\u001b[0m\u001b[0m\n\u001b[1;32m    179\u001b[0m         \u001b[0mcallbacks\u001b[0m\u001b[0;34m.\u001b[0m\u001b[0mmodel\u001b[0m\u001b[0;34m.\u001b[0m\u001b[0mstop_training\u001b[0m \u001b[0;34m=\u001b[0m \u001b[0;32mTrue\u001b[0m\u001b[0;34m\u001b[0m\u001b[0;34m\u001b[0m\u001b[0m\n",
            "\u001b[0;32m/usr/local/lib/python3.6/dist-packages/tensorflow/python/keras/engine/training_generator.py\u001b[0m in \u001b[0;36m_get_next_batch\u001b[0;34m(output_generator, mode)\u001b[0m\n\u001b[1;32m    256\u001b[0m   \u001b[0;34m\"\"\"Retrieves the next batch of input data.\"\"\"\u001b[0m\u001b[0;34m\u001b[0m\u001b[0;34m\u001b[0m\u001b[0m\n\u001b[1;32m    257\u001b[0m   \u001b[0;32mtry\u001b[0m\u001b[0;34m:\u001b[0m\u001b[0;34m\u001b[0m\u001b[0;34m\u001b[0m\u001b[0m\n\u001b[0;32m--> 258\u001b[0;31m     \u001b[0mgenerator_output\u001b[0m \u001b[0;34m=\u001b[0m \u001b[0mnext\u001b[0m\u001b[0;34m(\u001b[0m\u001b[0moutput_generator\u001b[0m\u001b[0;34m)\u001b[0m\u001b[0;34m\u001b[0m\u001b[0;34m\u001b[0m\u001b[0m\n\u001b[0m\u001b[1;32m    259\u001b[0m   \u001b[0;32mexcept\u001b[0m \u001b[0;34m(\u001b[0m\u001b[0merrors\u001b[0m\u001b[0;34m.\u001b[0m\u001b[0mOutOfRangeError\u001b[0m\u001b[0;34m,\u001b[0m \u001b[0mStopIteration\u001b[0m\u001b[0;34m)\u001b[0m\u001b[0;34m:\u001b[0m\u001b[0;34m\u001b[0m\u001b[0;34m\u001b[0m\u001b[0m\n\u001b[1;32m    260\u001b[0m     \u001b[0;31m# Returning `None` will trigger looping to stop.\u001b[0m\u001b[0;34m\u001b[0m\u001b[0;34m\u001b[0m\u001b[0;34m\u001b[0m\u001b[0m\n",
            "\u001b[0;32m/usr/local/lib/python3.6/dist-packages/tensorflow/python/keras/utils/data_utils.py\u001b[0m in \u001b[0;36mget\u001b[0;34m(self)\u001b[0m\n\u001b[1;32m    653\u001b[0m     \u001b[0;32mexcept\u001b[0m \u001b[0mException\u001b[0m\u001b[0;34m:\u001b[0m  \u001b[0;31m# pylint: disable=broad-except\u001b[0m\u001b[0;34m\u001b[0m\u001b[0;34m\u001b[0m\u001b[0m\n\u001b[1;32m    654\u001b[0m       \u001b[0mself\u001b[0m\u001b[0;34m.\u001b[0m\u001b[0mstop\u001b[0m\u001b[0;34m(\u001b[0m\u001b[0;34m)\u001b[0m\u001b[0;34m\u001b[0m\u001b[0;34m\u001b[0m\u001b[0m\n\u001b[0;32m--> 655\u001b[0;31m       \u001b[0msix\u001b[0m\u001b[0;34m.\u001b[0m\u001b[0mreraise\u001b[0m\u001b[0;34m(\u001b[0m\u001b[0;34m*\u001b[0m\u001b[0msys\u001b[0m\u001b[0;34m.\u001b[0m\u001b[0mexc_info\u001b[0m\u001b[0;34m(\u001b[0m\u001b[0;34m)\u001b[0m\u001b[0;34m)\u001b[0m\u001b[0;34m\u001b[0m\u001b[0;34m\u001b[0m\u001b[0m\n\u001b[0m\u001b[1;32m    656\u001b[0m \u001b[0;34m\u001b[0m\u001b[0m\n\u001b[1;32m    657\u001b[0m \u001b[0;34m\u001b[0m\u001b[0m\n",
            "\u001b[0;32m/usr/local/lib/python3.6/dist-packages/six.py\u001b[0m in \u001b[0;36mreraise\u001b[0;34m(tp, value, tb)\u001b[0m\n\u001b[1;32m    691\u001b[0m             \u001b[0;32mif\u001b[0m \u001b[0mvalue\u001b[0m\u001b[0;34m.\u001b[0m\u001b[0m__traceback__\u001b[0m \u001b[0;32mis\u001b[0m \u001b[0;32mnot\u001b[0m \u001b[0mtb\u001b[0m\u001b[0;34m:\u001b[0m\u001b[0;34m\u001b[0m\u001b[0;34m\u001b[0m\u001b[0m\n\u001b[1;32m    692\u001b[0m                 \u001b[0;32mraise\u001b[0m \u001b[0mvalue\u001b[0m\u001b[0;34m.\u001b[0m\u001b[0mwith_traceback\u001b[0m\u001b[0;34m(\u001b[0m\u001b[0mtb\u001b[0m\u001b[0;34m)\u001b[0m\u001b[0;34m\u001b[0m\u001b[0;34m\u001b[0m\u001b[0m\n\u001b[0;32m--> 693\u001b[0;31m             \u001b[0;32mraise\u001b[0m \u001b[0mvalue\u001b[0m\u001b[0;34m\u001b[0m\u001b[0;34m\u001b[0m\u001b[0m\n\u001b[0m\u001b[1;32m    694\u001b[0m         \u001b[0;32mfinally\u001b[0m\u001b[0;34m:\u001b[0m\u001b[0;34m\u001b[0m\u001b[0;34m\u001b[0m\u001b[0m\n\u001b[1;32m    695\u001b[0m             \u001b[0mvalue\u001b[0m \u001b[0;34m=\u001b[0m \u001b[0;32mNone\u001b[0m\u001b[0;34m\u001b[0m\u001b[0;34m\u001b[0m\u001b[0m\n",
            "\u001b[0;32m/usr/local/lib/python3.6/dist-packages/tensorflow/python/keras/utils/data_utils.py\u001b[0m in \u001b[0;36mget\u001b[0;34m(self)\u001b[0m\n\u001b[1;32m    647\u001b[0m     \u001b[0;32mtry\u001b[0m\u001b[0;34m:\u001b[0m\u001b[0;34m\u001b[0m\u001b[0;34m\u001b[0m\u001b[0m\n\u001b[1;32m    648\u001b[0m       \u001b[0;32mwhile\u001b[0m \u001b[0mself\u001b[0m\u001b[0;34m.\u001b[0m\u001b[0mis_running\u001b[0m\u001b[0;34m(\u001b[0m\u001b[0;34m)\u001b[0m\u001b[0;34m:\u001b[0m\u001b[0;34m\u001b[0m\u001b[0;34m\u001b[0m\u001b[0m\n\u001b[0;32m--> 649\u001b[0;31m         \u001b[0minputs\u001b[0m \u001b[0;34m=\u001b[0m \u001b[0mself\u001b[0m\u001b[0;34m.\u001b[0m\u001b[0mqueue\u001b[0m\u001b[0;34m.\u001b[0m\u001b[0mget\u001b[0m\u001b[0;34m(\u001b[0m\u001b[0mblock\u001b[0m\u001b[0;34m=\u001b[0m\u001b[0;32mTrue\u001b[0m\u001b[0;34m)\u001b[0m\u001b[0;34m.\u001b[0m\u001b[0mget\u001b[0m\u001b[0;34m(\u001b[0m\u001b[0;34m)\u001b[0m\u001b[0;34m\u001b[0m\u001b[0;34m\u001b[0m\u001b[0m\n\u001b[0m\u001b[1;32m    650\u001b[0m         \u001b[0mself\u001b[0m\u001b[0;34m.\u001b[0m\u001b[0mqueue\u001b[0m\u001b[0;34m.\u001b[0m\u001b[0mtask_done\u001b[0m\u001b[0;34m(\u001b[0m\u001b[0;34m)\u001b[0m\u001b[0;34m\u001b[0m\u001b[0;34m\u001b[0m\u001b[0m\n\u001b[1;32m    651\u001b[0m         \u001b[0;32mif\u001b[0m \u001b[0minputs\u001b[0m \u001b[0;32mis\u001b[0m \u001b[0;32mnot\u001b[0m \u001b[0;32mNone\u001b[0m\u001b[0;34m:\u001b[0m\u001b[0;34m\u001b[0m\u001b[0;34m\u001b[0m\u001b[0m\n",
            "\u001b[0;32m/usr/lib/python3.6/multiprocessing/pool.py\u001b[0m in \u001b[0;36mget\u001b[0;34m(self, timeout)\u001b[0m\n\u001b[1;32m    668\u001b[0m             \u001b[0;32mreturn\u001b[0m \u001b[0mself\u001b[0m\u001b[0;34m.\u001b[0m\u001b[0m_value\u001b[0m\u001b[0;34m\u001b[0m\u001b[0;34m\u001b[0m\u001b[0m\n\u001b[1;32m    669\u001b[0m         \u001b[0;32melse\u001b[0m\u001b[0;34m:\u001b[0m\u001b[0;34m\u001b[0m\u001b[0;34m\u001b[0m\u001b[0m\n\u001b[0;32m--> 670\u001b[0;31m             \u001b[0;32mraise\u001b[0m \u001b[0mself\u001b[0m\u001b[0;34m.\u001b[0m\u001b[0m_value\u001b[0m\u001b[0;34m\u001b[0m\u001b[0;34m\u001b[0m\u001b[0m\n\u001b[0m\u001b[1;32m    671\u001b[0m \u001b[0;34m\u001b[0m\u001b[0m\n\u001b[1;32m    672\u001b[0m     \u001b[0;32mdef\u001b[0m \u001b[0m_set\u001b[0m\u001b[0;34m(\u001b[0m\u001b[0mself\u001b[0m\u001b[0;34m,\u001b[0m \u001b[0mi\u001b[0m\u001b[0;34m,\u001b[0m \u001b[0mobj\u001b[0m\u001b[0;34m)\u001b[0m\u001b[0;34m:\u001b[0m\u001b[0;34m\u001b[0m\u001b[0;34m\u001b[0m\u001b[0m\n",
            "\u001b[0;32m/usr/lib/python3.6/multiprocessing/pool.py\u001b[0m in \u001b[0;36mworker\u001b[0;34m(inqueue, outqueue, initializer, initargs, maxtasks, wrap_exception)\u001b[0m\n\u001b[1;32m    117\u001b[0m         \u001b[0mjob\u001b[0m\u001b[0;34m,\u001b[0m \u001b[0mi\u001b[0m\u001b[0;34m,\u001b[0m \u001b[0mfunc\u001b[0m\u001b[0;34m,\u001b[0m \u001b[0margs\u001b[0m\u001b[0;34m,\u001b[0m \u001b[0mkwds\u001b[0m \u001b[0;34m=\u001b[0m \u001b[0mtask\u001b[0m\u001b[0;34m\u001b[0m\u001b[0;34m\u001b[0m\u001b[0m\n\u001b[1;32m    118\u001b[0m         \u001b[0;32mtry\u001b[0m\u001b[0;34m:\u001b[0m\u001b[0;34m\u001b[0m\u001b[0;34m\u001b[0m\u001b[0m\n\u001b[0;32m--> 119\u001b[0;31m             \u001b[0mresult\u001b[0m \u001b[0;34m=\u001b[0m \u001b[0;34m(\u001b[0m\u001b[0;32mTrue\u001b[0m\u001b[0;34m,\u001b[0m \u001b[0mfunc\u001b[0m\u001b[0;34m(\u001b[0m\u001b[0;34m*\u001b[0m\u001b[0margs\u001b[0m\u001b[0;34m,\u001b[0m \u001b[0;34m**\u001b[0m\u001b[0mkwds\u001b[0m\u001b[0;34m)\u001b[0m\u001b[0;34m)\u001b[0m\u001b[0;34m\u001b[0m\u001b[0;34m\u001b[0m\u001b[0m\n\u001b[0m\u001b[1;32m    120\u001b[0m         \u001b[0;32mexcept\u001b[0m \u001b[0mException\u001b[0m \u001b[0;32mas\u001b[0m \u001b[0me\u001b[0m\u001b[0;34m:\u001b[0m\u001b[0;34m\u001b[0m\u001b[0;34m\u001b[0m\u001b[0m\n\u001b[1;32m    121\u001b[0m             \u001b[0;32mif\u001b[0m \u001b[0mwrap_exception\u001b[0m \u001b[0;32mand\u001b[0m \u001b[0mfunc\u001b[0m \u001b[0;32mis\u001b[0m \u001b[0;32mnot\u001b[0m \u001b[0m_helper_reraises_exception\u001b[0m\u001b[0;34m:\u001b[0m\u001b[0;34m\u001b[0m\u001b[0;34m\u001b[0m\u001b[0m\n",
            "\u001b[0;32m/usr/local/lib/python3.6/dist-packages/tensorflow/python/keras/utils/data_utils.py\u001b[0m in \u001b[0;36mget_index\u001b[0;34m(uid, i)\u001b[0m\n\u001b[1;32m    443\u001b[0m       \u001b[0mThe\u001b[0m \u001b[0mvalue\u001b[0m \u001b[0mat\u001b[0m \u001b[0mindex\u001b[0m\u001b[0;31m \u001b[0m\u001b[0;31m`\u001b[0m\u001b[0mi\u001b[0m\u001b[0;31m`\u001b[0m\u001b[0;34m.\u001b[0m\u001b[0;34m\u001b[0m\u001b[0;34m\u001b[0m\u001b[0m\n\u001b[1;32m    444\u001b[0m   \"\"\"\n\u001b[0;32m--> 445\u001b[0;31m   \u001b[0;32mreturn\u001b[0m \u001b[0m_SHARED_SEQUENCES\u001b[0m\u001b[0;34m[\u001b[0m\u001b[0muid\u001b[0m\u001b[0;34m]\u001b[0m\u001b[0;34m[\u001b[0m\u001b[0mi\u001b[0m\u001b[0;34m]\u001b[0m\u001b[0;34m\u001b[0m\u001b[0;34m\u001b[0m\u001b[0m\n\u001b[0m\u001b[1;32m    446\u001b[0m \u001b[0;34m\u001b[0m\u001b[0m\n\u001b[1;32m    447\u001b[0m \u001b[0;34m\u001b[0m\u001b[0m\n",
            "\u001b[0;32m/content/GymnosDataGenerator_i2.py\u001b[0m in \u001b[0;36m__getitem__\u001b[0;34m(self, index)\u001b[0m\n\u001b[1;32m     62\u001b[0m         \u001b[0;34m:\u001b[0m\u001b[0;32mreturn\u001b[0m\u001b[0;34m:\u001b[0m\u001b[0;34m\u001b[0m\u001b[0;34m\u001b[0m\u001b[0m\n\u001b[1;32m     63\u001b[0m         \"\"\"\n\u001b[0;32m---> 64\u001b[0;31m         \u001b[0mX\u001b[0m\u001b[0;34m,\u001b[0m \u001b[0my\u001b[0m \u001b[0;34m=\u001b[0m \u001b[0mself\u001b[0m\u001b[0;34m.\u001b[0m\u001b[0m__data_generation\u001b[0m\u001b[0;34m(\u001b[0m\u001b[0mself\u001b[0m\u001b[0;34m.\u001b[0m\u001b[0mlist_IDs\u001b[0m\u001b[0;34m[\u001b[0m\u001b[0mindex\u001b[0m \u001b[0;34m*\u001b[0m \u001b[0mself\u001b[0m\u001b[0;34m.\u001b[0m\u001b[0mbatch_size\u001b[0m\u001b[0;34m:\u001b[0m\u001b[0;34m(\u001b[0m\u001b[0mindex\u001b[0m \u001b[0;34m+\u001b[0m \u001b[0;36m1\u001b[0m\u001b[0;34m)\u001b[0m \u001b[0;34m*\u001b[0m \u001b[0mself\u001b[0m\u001b[0;34m.\u001b[0m\u001b[0mbatch_size\u001b[0m\u001b[0;34m]\u001b[0m\u001b[0;34m)\u001b[0m\u001b[0;34m\u001b[0m\u001b[0;34m\u001b[0m\u001b[0m\n\u001b[0m\u001b[1;32m     65\u001b[0m \u001b[0;34m\u001b[0m\u001b[0m\n\u001b[1;32m     66\u001b[0m         \u001b[0;32mreturn\u001b[0m \u001b[0mX\u001b[0m\u001b[0;34m,\u001b[0m \u001b[0my\u001b[0m\u001b[0;34m\u001b[0m\u001b[0;34m\u001b[0m\u001b[0m\n",
            "\u001b[0;32m/content/GymnosDataGenerator_i2.py\u001b[0m in \u001b[0;36m__data_generation\u001b[0;34m(self, list_IDs_temp)\u001b[0m\n\u001b[1;32m     82\u001b[0m         \u001b[0;32mfor\u001b[0m \u001b[0mi\u001b[0m\u001b[0;34m,\u001b[0m \u001b[0mID\u001b[0m \u001b[0;32min\u001b[0m \u001b[0menumerate\u001b[0m\u001b[0;34m(\u001b[0m\u001b[0mlist_IDs_temp\u001b[0m\u001b[0;34m)\u001b[0m\u001b[0;34m:\u001b[0m\u001b[0;34m\u001b[0m\u001b[0;34m\u001b[0m\u001b[0m\n\u001b[1;32m     83\u001b[0m             \u001b[0;31m# Store sample\u001b[0m\u001b[0;34m\u001b[0m\u001b[0;34m\u001b[0m\u001b[0;34m\u001b[0m\u001b[0m\n\u001b[0;32m---> 84\u001b[0;31m             \u001b[0mX\u001b[0m\u001b[0;34m[\u001b[0m\u001b[0mi\u001b[0m\u001b[0;34m,\u001b[0m \u001b[0;34m]\u001b[0m \u001b[0;34m=\u001b[0m \u001b[0mself\u001b[0m\u001b[0;34m.\u001b[0m\u001b[0mextract_frames_from_video\u001b[0m\u001b[0;34m(\u001b[0m\u001b[0mID\u001b[0m\u001b[0;34m)\u001b[0m\u001b[0;34m\u001b[0m\u001b[0;34m\u001b[0m\u001b[0m\n\u001b[0m\u001b[1;32m     85\u001b[0m \u001b[0;34m\u001b[0m\u001b[0m\n\u001b[1;32m     86\u001b[0m             \u001b[0;31m# Store class\u001b[0m\u001b[0;34m\u001b[0m\u001b[0;34m\u001b[0m\u001b[0;34m\u001b[0m\u001b[0m\n",
            "\u001b[0;31mValueError\u001b[0m: could not broadcast input array from shape (15,128,128,3) into shape (16,128,128,3)"
          ]
        }
      ]
    },
    {
      "cell_type": "code",
      "metadata": {
        "id": "nw34eMB3fFQA",
        "colab_type": "code",
        "colab": {}
      },
      "source": [
        "iteration_1_location = \"/content/drive/My Drive/GYMNOS/Software Development/Implementation Details/Gymnos_i1/gymnos_i1_GPU.h5\""
      ],
      "execution_count": 0,
      "outputs": []
    },
    {
      "cell_type": "code",
      "metadata": {
        "id": "EfdwBYs4Oi_J",
        "colab_type": "code",
        "colab": {}
      },
      "source": [
        "# Save all of your hard work\n",
        "model.save(iteration_1_location)"
      ],
      "execution_count": 0,
      "outputs": []
    },
    {
      "cell_type": "markdown",
      "metadata": {
        "id": "DCBUwXbvOCsF",
        "colab_type": "text"
      },
      "source": [
        "---\n",
        "## Evaluating the Model\n",
        "Now that the Model has it's weights initialized, let see how it performs on the test set."
      ]
    },
    {
      "cell_type": "code",
      "metadata": {
        "id": "ZUVKwmp-e5Qg",
        "colab_type": "code",
        "colab": {}
      },
      "source": [
        "trained_model = load_model(iteration_1_location)"
      ],
      "execution_count": 0,
      "outputs": []
    },
    {
      "cell_type": "code",
      "metadata": {
        "id": "JGkfT_0oOQQL",
        "colab_type": "code",
        "colab": {}
      },
      "source": [
        "# Parameters\n",
        "params = {'data_location': \"/content/drive/My Drive/GYMNOS/Video Dataset/Frames/\",\n",
        "          'dim': (224, 224, 3),\n",
        "          'batch_size': 64,\n",
        "          'n_classes': 2,\n",
        "          'shuffle': True}\n",
        "\n",
        "test_generator = gen.DataGenerator(partition[\"test\"], labels, **params)"
      ],
      "execution_count": 0,
      "outputs": []
    },
    {
      "cell_type": "code",
      "metadata": {
        "id": "2AcR3n8WkkBT",
        "colab_type": "code",
        "colab": {}
      },
      "source": [
        "images, pred_class = test_generator.__getitem__(0)"
      ],
      "execution_count": 0,
      "outputs": []
    },
    {
      "cell_type": "code",
      "metadata": {
        "id": "i4bRBLrWk1qs",
        "colab_type": "code",
        "colab": {}
      },
      "source": [
        "helper.show_images(images)"
      ],
      "execution_count": 0,
      "outputs": []
    },
    {
      "cell_type": "code",
      "metadata": {
        "id": "LUKO4ewdk6xT",
        "colab_type": "code",
        "colab": {}
      },
      "source": [
        "model_predictions = trained_model.predict_classes(images)"
      ],
      "execution_count": 0,
      "outputs": []
    },
    {
      "cell_type": "code",
      "metadata": {
        "id": "MITuo7RLlMYy",
        "colab_type": "code",
        "colab": {}
      },
      "source": [
        "for index, number in enumerate(model_predictions):\n",
        "  if number == 0:\n",
        "    print(\"Image(\"+ str(index + 1) + \") is a squat\")\n",
        "  else:\n",
        "    print(\"Image(\"+ str(index + 1) + \") is a overheadpress\")"
      ],
      "execution_count": 0,
      "outputs": []
    }
  ]
}